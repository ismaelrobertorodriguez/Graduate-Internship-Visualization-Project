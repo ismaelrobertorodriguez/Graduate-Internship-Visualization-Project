{
 "cells": [
  {
   "cell_type": "markdown",
   "metadata": {},
   "source": [
    "## SBIR/STTR Impact of University Commercializaton Research \n",
    "### INSTITUTIONS DATASET\n",
    "\n",
    "### Ismael Rodriguez\n",
    "### 18 JUN 2020\n"
   ]
  },
  {
   "cell_type": "markdown",
   "metadata": {},
   "source": [
    "A. Software Preparation"
   ]
  },
  {
   "cell_type": "code",
   "execution_count": 2,
   "metadata": {},
   "outputs": [],
   "source": [
    "import urllib.request\n",
    "import json\n",
    "import pprint\n",
    "from pprint import pprint\n",
    "import pandas as pd"
   ]
  },
  {
   "cell_type": "markdown",
   "metadata": {},
   "source": [
    "B. Data Preparation\n",
    "\n"
   ]
  },
  {
   "cell_type": "code",
   "execution_count": null,
   "metadata": {},
   "outputs": [],
   "source": []
  },
  {
   "cell_type": "code",
   "execution_count": 3,
   "metadata": {},
   "outputs": [],
   "source": [
    "# Data retreived from US Dept of Education IPEDS on 06/18/20 @ https://nces.ed.gov/ipeds/datacenter/Data.aspx\n",
    "dfIPEDS = pd.read_csv('data/IPEDS_Institutions_06182020.csv')"
   ]
  },
  {
   "cell_type": "code",
   "execution_count": 4,
   "metadata": {
    "scrolled": true
   },
   "outputs": [
    {
     "data": {
      "text/html": [
       "<div>\n",
       "<style scoped>\n",
       "    .dataframe tbody tr th:only-of-type {\n",
       "        vertical-align: middle;\n",
       "    }\n",
       "\n",
       "    .dataframe tbody tr th {\n",
       "        vertical-align: top;\n",
       "    }\n",
       "\n",
       "    .dataframe thead th {\n",
       "        text-align: right;\n",
       "    }\n",
       "</style>\n",
       "<table border=\"1\" class=\"dataframe\">\n",
       "  <thead>\n",
       "    <tr style=\"text-align: right;\">\n",
       "      <th></th>\n",
       "      <th>UnitID</th>\n",
       "      <th>Institution Name</th>\n",
       "      <th>State</th>\n",
       "      <th>ZIP</th>\n",
       "      <th>Longitude</th>\n",
       "      <th>Latitude</th>\n",
       "      <th>OPEID</th>\n",
       "    </tr>\n",
       "  </thead>\n",
       "  <tbody>\n",
       "    <tr>\n",
       "      <th>0</th>\n",
       "      <td>177834</td>\n",
       "      <td>A T Still University of Health Sciences</td>\n",
       "      <td>MO</td>\n",
       "      <td>63501</td>\n",
       "      <td>-92.589183</td>\n",
       "      <td>40.193648</td>\n",
       "      <td>247700</td>\n",
       "    </tr>\n",
       "    <tr>\n",
       "      <th>1</th>\n",
       "      <td>488165</td>\n",
       "      <td>Academy of Cosmetology and Esthetics</td>\n",
       "      <td>MO</td>\n",
       "      <td>64772-2805</td>\n",
       "      <td>-94.375701</td>\n",
       "      <td>37.837500</td>\n",
       "      <td>4247100</td>\n",
       "    </tr>\n",
       "    <tr>\n",
       "      <th>2</th>\n",
       "      <td>451334</td>\n",
       "      <td>Academy of Hair Design-Springfield</td>\n",
       "      <td>MO</td>\n",
       "      <td>65804</td>\n",
       "      <td>-93.261354</td>\n",
       "      <td>37.180584</td>\n",
       "      <td>4037500</td>\n",
       "    </tr>\n",
       "    <tr>\n",
       "      <th>3</th>\n",
       "      <td>480879</td>\n",
       "      <td>Academy of Salon Professionals</td>\n",
       "      <td>MO</td>\n",
       "      <td>65301</td>\n",
       "      <td>-93.251559</td>\n",
       "      <td>38.690729</td>\n",
       "      <td>4212100</td>\n",
       "    </tr>\n",
       "    <tr>\n",
       "      <th>4</th>\n",
       "      <td>152798</td>\n",
       "      <td>Allen College</td>\n",
       "      <td>IA</td>\n",
       "      <td>50703-1999</td>\n",
       "      <td>-92.340148</td>\n",
       "      <td>42.530084</td>\n",
       "      <td>3069100</td>\n",
       "    </tr>\n",
       "  </tbody>\n",
       "</table>\n",
       "</div>"
      ],
      "text/plain": [
       "   UnitID                         Institution Name State         ZIP  \\\n",
       "0  177834  A T Still University of Health Sciences    MO       63501   \n",
       "1  488165     Academy of Cosmetology and Esthetics    MO  64772-2805   \n",
       "2  451334       Academy of Hair Design-Springfield    MO       65804   \n",
       "3  480879           Academy of Salon Professionals    MO       65301   \n",
       "4  152798                            Allen College    IA  50703-1999   \n",
       "\n",
       "   Longitude   Latitude    OPEID  \n",
       "0 -92.589183  40.193648   247700  \n",
       "1 -94.375701  37.837500  4247100  \n",
       "2 -93.261354  37.180584  4037500  \n",
       "3 -93.251559  38.690729  4212100  \n",
       "4 -92.340148  42.530084  3069100  "
      ]
     },
     "execution_count": 4,
     "metadata": {},
     "output_type": "execute_result"
    }
   ],
   "source": [
    "dfIPEDS.head()"
   ]
  },
  {
   "cell_type": "code",
   "execution_count": 5,
   "metadata": {},
   "outputs": [],
   "source": [
    "# Extraction of ZIP adapted from https://stackoverflow.com/questions/51607400/how-to-extract-first-8-characters-from-a-string-in-pandas\n",
    "dfIPEDS['ZIP5'] = dfIPEDS['ZIP'].str[:5]"
   ]
  },
  {
   "cell_type": "code",
   "execution_count": 6,
   "metadata": {},
   "outputs": [
    {
     "data": {
      "text/html": [
       "<div>\n",
       "<style scoped>\n",
       "    .dataframe tbody tr th:only-of-type {\n",
       "        vertical-align: middle;\n",
       "    }\n",
       "\n",
       "    .dataframe tbody tr th {\n",
       "        vertical-align: top;\n",
       "    }\n",
       "\n",
       "    .dataframe thead th {\n",
       "        text-align: right;\n",
       "    }\n",
       "</style>\n",
       "<table border=\"1\" class=\"dataframe\">\n",
       "  <thead>\n",
       "    <tr style=\"text-align: right;\">\n",
       "      <th></th>\n",
       "      <th>UnitID</th>\n",
       "      <th>Institution Name</th>\n",
       "      <th>State</th>\n",
       "      <th>ZIP</th>\n",
       "      <th>Longitude</th>\n",
       "      <th>Latitude</th>\n",
       "      <th>OPEID</th>\n",
       "      <th>ZIP5</th>\n",
       "    </tr>\n",
       "  </thead>\n",
       "  <tbody>\n",
       "    <tr>\n",
       "      <th>0</th>\n",
       "      <td>177834</td>\n",
       "      <td>A T Still University of Health Sciences</td>\n",
       "      <td>MO</td>\n",
       "      <td>63501</td>\n",
       "      <td>-92.589183</td>\n",
       "      <td>40.193648</td>\n",
       "      <td>247700</td>\n",
       "      <td>63501</td>\n",
       "    </tr>\n",
       "    <tr>\n",
       "      <th>1</th>\n",
       "      <td>488165</td>\n",
       "      <td>Academy of Cosmetology and Esthetics</td>\n",
       "      <td>MO</td>\n",
       "      <td>64772-2805</td>\n",
       "      <td>-94.375701</td>\n",
       "      <td>37.837500</td>\n",
       "      <td>4247100</td>\n",
       "      <td>64772</td>\n",
       "    </tr>\n",
       "    <tr>\n",
       "      <th>2</th>\n",
       "      <td>451334</td>\n",
       "      <td>Academy of Hair Design-Springfield</td>\n",
       "      <td>MO</td>\n",
       "      <td>65804</td>\n",
       "      <td>-93.261354</td>\n",
       "      <td>37.180584</td>\n",
       "      <td>4037500</td>\n",
       "      <td>65804</td>\n",
       "    </tr>\n",
       "    <tr>\n",
       "      <th>3</th>\n",
       "      <td>480879</td>\n",
       "      <td>Academy of Salon Professionals</td>\n",
       "      <td>MO</td>\n",
       "      <td>65301</td>\n",
       "      <td>-93.251559</td>\n",
       "      <td>38.690729</td>\n",
       "      <td>4212100</td>\n",
       "      <td>65301</td>\n",
       "    </tr>\n",
       "    <tr>\n",
       "      <th>4</th>\n",
       "      <td>152798</td>\n",
       "      <td>Allen College</td>\n",
       "      <td>IA</td>\n",
       "      <td>50703-1999</td>\n",
       "      <td>-92.340148</td>\n",
       "      <td>42.530084</td>\n",
       "      <td>3069100</td>\n",
       "      <td>50703</td>\n",
       "    </tr>\n",
       "  </tbody>\n",
       "</table>\n",
       "</div>"
      ],
      "text/plain": [
       "   UnitID                         Institution Name State         ZIP  \\\n",
       "0  177834  A T Still University of Health Sciences    MO       63501   \n",
       "1  488165     Academy of Cosmetology and Esthetics    MO  64772-2805   \n",
       "2  451334       Academy of Hair Design-Springfield    MO       65804   \n",
       "3  480879           Academy of Salon Professionals    MO       65301   \n",
       "4  152798                            Allen College    IA  50703-1999   \n",
       "\n",
       "   Longitude   Latitude    OPEID   ZIP5  \n",
       "0 -92.589183  40.193648   247700  63501  \n",
       "1 -94.375701  37.837500  4247100  64772  \n",
       "2 -93.261354  37.180584  4037500  65804  \n",
       "3 -93.251559  38.690729  4212100  65301  \n",
       "4 -92.340148  42.530084  3069100  50703  "
      ]
     },
     "execution_count": 6,
     "metadata": {},
     "output_type": "execute_result"
    }
   ],
   "source": [
    "dfIPEDS.head()"
   ]
  },
  {
   "cell_type": "code",
   "execution_count": 7,
   "metadata": {},
   "outputs": [
    {
     "name": "stdout",
     "output_type": "stream",
     "text": [
      "<class 'pandas.core.frame.DataFrame'>\n",
      "RangeIndex: 385 entries, 0 to 384\n",
      "Data columns (total 8 columns):\n",
      " #   Column            Non-Null Count  Dtype  \n",
      "---  ------            --------------  -----  \n",
      " 0   UnitID            385 non-null    int64  \n",
      " 1   Institution Name  385 non-null    object \n",
      " 2   State             385 non-null    object \n",
      " 3   ZIP               385 non-null    object \n",
      " 4   Longitude         385 non-null    float64\n",
      " 5   Latitude          385 non-null    float64\n",
      " 6   OPEID             385 non-null    int64  \n",
      " 7   ZIP5              385 non-null    object \n",
      "dtypes: float64(2), int64(2), object(4)\n",
      "memory usage: 24.2+ KB\n"
     ]
    }
   ],
   "source": [
    "dfIPEDS.info()"
   ]
  },
  {
   "cell_type": "code",
   "execution_count": 8,
   "metadata": {},
   "outputs": [],
   "source": [
    "dfIPEDS.to_excel('data/IPEDS_Institutions_by_loc_06182020.xls')"
   ]
  },
  {
   "cell_type": "code",
   "execution_count": null,
   "metadata": {},
   "outputs": [],
   "source": []
  },
  {
   "cell_type": "code",
   "execution_count": null,
   "metadata": {},
   "outputs": [],
   "source": []
  },
  {
   "cell_type": "code",
   "execution_count": null,
   "metadata": {},
   "outputs": [],
   "source": []
  },
  {
   "cell_type": "code",
   "execution_count": null,
   "metadata": {},
   "outputs": [],
   "source": []
  },
  {
   "cell_type": "code",
   "execution_count": null,
   "metadata": {},
   "outputs": [],
   "source": []
  },
  {
   "cell_type": "code",
   "execution_count": null,
   "metadata": {},
   "outputs": [],
   "source": []
  },
  {
   "cell_type": "code",
   "execution_count": null,
   "metadata": {},
   "outputs": [],
   "source": []
  },
  {
   "cell_type": "code",
   "execution_count": null,
   "metadata": {},
   "outputs": [],
   "source": []
  },
  {
   "cell_type": "code",
   "execution_count": null,
   "metadata": {},
   "outputs": [],
   "source": []
  },
  {
   "cell_type": "code",
   "execution_count": null,
   "metadata": {},
   "outputs": [],
   "source": []
  },
  {
   "cell_type": "code",
   "execution_count": null,
   "metadata": {},
   "outputs": [],
   "source": []
  },
  {
   "cell_type": "code",
   "execution_count": null,
   "metadata": {},
   "outputs": [],
   "source": []
  },
  {
   "cell_type": "code",
   "execution_count": null,
   "metadata": {},
   "outputs": [],
   "source": []
  },
  {
   "cell_type": "code",
   "execution_count": null,
   "metadata": {},
   "outputs": [],
   "source": []
  },
  {
   "cell_type": "code",
   "execution_count": null,
   "metadata": {},
   "outputs": [],
   "source": []
  },
  {
   "cell_type": "code",
   "execution_count": null,
   "metadata": {},
   "outputs": [],
   "source": []
  },
  {
   "cell_type": "code",
   "execution_count": null,
   "metadata": {},
   "outputs": [],
   "source": []
  },
  {
   "cell_type": "code",
   "execution_count": null,
   "metadata": {},
   "outputs": [],
   "source": []
  },
  {
   "cell_type": "code",
   "execution_count": null,
   "metadata": {},
   "outputs": [],
   "source": []
  },
  {
   "cell_type": "code",
   "execution_count": null,
   "metadata": {},
   "outputs": [],
   "source": []
  },
  {
   "cell_type": "code",
   "execution_count": null,
   "metadata": {},
   "outputs": [],
   "source": []
  },
  {
   "cell_type": "code",
   "execution_count": null,
   "metadata": {},
   "outputs": [],
   "source": []
  },
  {
   "cell_type": "code",
   "execution_count": null,
   "metadata": {},
   "outputs": [],
   "source": []
  },
  {
   "cell_type": "code",
   "execution_count": null,
   "metadata": {},
   "outputs": [],
   "source": []
  },
  {
   "cell_type": "code",
   "execution_count": null,
   "metadata": {},
   "outputs": [],
   "source": []
  },
  {
   "cell_type": "code",
   "execution_count": null,
   "metadata": {},
   "outputs": [],
   "source": []
  },
  {
   "cell_type": "code",
   "execution_count": null,
   "metadata": {},
   "outputs": [],
   "source": []
  },
  {
   "cell_type": "code",
   "execution_count": null,
   "metadata": {},
   "outputs": [],
   "source": []
  },
  {
   "cell_type": "code",
   "execution_count": null,
   "metadata": {},
   "outputs": [],
   "source": []
  },
  {
   "cell_type": "code",
   "execution_count": null,
   "metadata": {},
   "outputs": [],
   "source": []
  },
  {
   "cell_type": "code",
   "execution_count": null,
   "metadata": {},
   "outputs": [],
   "source": []
  },
  {
   "cell_type": "code",
   "execution_count": null,
   "metadata": {},
   "outputs": [],
   "source": []
  },
  {
   "cell_type": "code",
   "execution_count": null,
   "metadata": {},
   "outputs": [],
   "source": []
  },
  {
   "cell_type": "code",
   "execution_count": null,
   "metadata": {},
   "outputs": [],
   "source": []
  },
  {
   "cell_type": "code",
   "execution_count": null,
   "metadata": {},
   "outputs": [],
   "source": []
  },
  {
   "cell_type": "code",
   "execution_count": null,
   "metadata": {},
   "outputs": [],
   "source": []
  },
  {
   "cell_type": "code",
   "execution_count": null,
   "metadata": {},
   "outputs": [],
   "source": []
  },
  {
   "cell_type": "code",
   "execution_count": null,
   "metadata": {},
   "outputs": [],
   "source": []
  },
  {
   "cell_type": "code",
   "execution_count": null,
   "metadata": {},
   "outputs": [],
   "source": []
  },
  {
   "cell_type": "code",
   "execution_count": null,
   "metadata": {},
   "outputs": [],
   "source": []
  },
  {
   "cell_type": "code",
   "execution_count": null,
   "metadata": {},
   "outputs": [],
   "source": []
  }
 ],
 "metadata": {
  "kernelspec": {
   "display_name": "Python 3",
   "language": "python",
   "name": "python3"
  },
  "language_info": {
   "codemirror_mode": {
    "name": "ipython",
    "version": 3
   },
   "file_extension": ".py",
   "mimetype": "text/x-python",
   "name": "python",
   "nbconvert_exporter": "python",
   "pygments_lexer": "ipython3",
   "version": "3.7.6"
  }
 },
 "nbformat": 4,
 "nbformat_minor": 4
}
