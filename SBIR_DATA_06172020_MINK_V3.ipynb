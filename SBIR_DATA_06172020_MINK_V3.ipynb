{
 "cells": [
  {
   "cell_type": "markdown",
   "metadata": {},
   "source": [
    "## SBIR/STTR Impact on University Commercialization Research\n",
    "\n",
    "### HEARTLAND (MINK) DATASET"
   ]
  },
  {
   "cell_type": "code",
   "execution_count": null,
   "metadata": {},
   "outputs": [],
   "source": []
  },
  {
   "cell_type": "markdown",
   "metadata": {},
   "source": [
    "### Ismael Rodriguez\n",
    "### 17 JUN 2020"
   ]
  },
  {
   "cell_type": "markdown",
   "metadata": {},
   "source": [
    "A.  Software Preparation"
   ]
  },
  {
   "cell_type": "code",
   "execution_count": 1,
   "metadata": {},
   "outputs": [],
   "source": [
    "import urllib.request\n",
    "import json\n",
    "import pprint\n",
    "from pprint import pprint\n",
    "import pandas as pd"
   ]
  },
  {
   "cell_type": "markdown",
   "metadata": {},
   "source": [
    "B.  Data Preparation\n",
    "\n",
    "Total Entries:  460\n",
    "\n",
    "Total Columns: 31\n",
    "\n",
    "Inclusive Award Years: 2015-2020"
   ]
  },
  {
   "cell_type": "code",
   "execution_count": 2,
   "metadata": {},
   "outputs": [],
   "source": [
    "#  Load data originally acquired from Small Business Administration\n",
    "\n",
    "#  Previous refinements include \n",
    "# extraction of 5 digit zip codes from any zip +4\n",
    "# Standardization of City Names for the region e.g Saint for St. or ST\n",
    "\n",
    "dfMINK = pd.read_csv('data/awardsMINKv5.csv')"
   ]
  },
  {
   "cell_type": "code",
   "execution_count": 3,
   "metadata": {},
   "outputs": [
    {
     "data": {
      "text/html": [
       "<div>\n",
       "<style scoped>\n",
       "    .dataframe tbody tr th:only-of-type {\n",
       "        vertical-align: middle;\n",
       "    }\n",
       "\n",
       "    .dataframe tbody tr th {\n",
       "        vertical-align: top;\n",
       "    }\n",
       "\n",
       "    .dataframe thead th {\n",
       "        text-align: right;\n",
       "    }\n",
       "</style>\n",
       "<table border=\"1\" class=\"dataframe\">\n",
       "  <thead>\n",
       "    <tr style=\"text-align: right;\">\n",
       "      <th></th>\n",
       "      <th>Company</th>\n",
       "      <th>Award_Title</th>\n",
       "      <th>Agency</th>\n",
       "      <th>Branch</th>\n",
       "      <th>Phase</th>\n",
       "      <th>Program</th>\n",
       "      <th>Agency_Tracking_Number</th>\n",
       "      <th>Proposal_Award_Date</th>\n",
       "      <th>Contract_End_Date</th>\n",
       "      <th>Solicitation_Number</th>\n",
       "      <th>...</th>\n",
       "      <th>ZIP5</th>\n",
       "      <th>Zip</th>\n",
       "      <th>Contact_Name</th>\n",
       "      <th>Contact_Email</th>\n",
       "      <th>PI_Name</th>\n",
       "      <th>PI_Phone</th>\n",
       "      <th>PI_Email</th>\n",
       "      <th>RI_Name</th>\n",
       "      <th>Research_Keywords</th>\n",
       "      <th>Abstract</th>\n",
       "    </tr>\n",
       "  </thead>\n",
       "  <tbody>\n",
       "    <tr>\n",
       "      <th>0</th>\n",
       "      <td>MTI Biotech Incorporated</td>\n",
       "      <td>Hydroxybenzylamine for the prevention of Alzhe...</td>\n",
       "      <td>Department of Health and Human Services</td>\n",
       "      <td>NaN</td>\n",
       "      <td>Phase II</td>\n",
       "      <td>SBIR</td>\n",
       "      <td>R44AG055184</td>\n",
       "      <td>30-Sep-16</td>\n",
       "      <td>31-May-19</td>\n",
       "      <td>PAR14-088</td>\n",
       "      <td>...</td>\n",
       "      <td>50010</td>\n",
       "      <td>50010-8656</td>\n",
       "      <td>SHAWN M BAIER</td>\n",
       "      <td>baier@mti-hmb.com</td>\n",
       "      <td>JOHN A RATHMACHER</td>\n",
       "      <td>(515) 296-9916</td>\n",
       "      <td>rathmacher@mti-hmb.com</td>\n",
       "      <td>NaN</td>\n",
       "      <td>NaN</td>\n",
       "      <td>Approximately     million Americans are affect...</td>\n",
       "    </tr>\n",
       "  </tbody>\n",
       "</table>\n",
       "<p>1 rows × 31 columns</p>\n",
       "</div>"
      ],
      "text/plain": [
       "                     Company  \\\n",
       "0  MTI Biotech Incorporated    \n",
       "\n",
       "                                         Award_Title  \\\n",
       "0  Hydroxybenzylamine for the prevention of Alzhe...   \n",
       "\n",
       "                                    Agency Branch     Phase Program  \\\n",
       "0  Department of Health and Human Services    NaN  Phase II    SBIR   \n",
       "\n",
       "  Agency_Tracking_Number Proposal_Award_Date Contract_End_Date  \\\n",
       "0            R44AG055184           30-Sep-16         31-May-19   \n",
       "\n",
       "  Solicitation_Number  ...   ZIP5         Zip    Contact_Name  \\\n",
       "0           PAR14-088  ...  50010  50010-8656  SHAWN M BAIER    \n",
       "\n",
       "       Contact_Email             PI_Name        PI_Phone  \\\n",
       "0  baier@mti-hmb.com  JOHN A RATHMACHER   (515) 296-9916   \n",
       "\n",
       "                 PI_Email RI_Name  Research_Keywords  \\\n",
       "0  rathmacher@mti-hmb.com     NaN                NaN   \n",
       "\n",
       "                                            Abstract  \n",
       "0  Approximately     million Americans are affect...  \n",
       "\n",
       "[1 rows x 31 columns]"
      ]
     },
     "execution_count": 3,
     "metadata": {},
     "output_type": "execute_result"
    }
   ],
   "source": [
    "#  Snapshot of table \n",
    "\n",
    "dfMINK.head(1)"
   ]
  },
  {
   "cell_type": "code",
   "execution_count": null,
   "metadata": {},
   "outputs": [],
   "source": []
  },
  {
   "cell_type": "code",
   "execution_count": 4,
   "metadata": {},
   "outputs": [],
   "source": [
    "#set MINK Dataset to same timeframe as National Dataset\n",
    "\n",
    "dfMINK = dfMINK[(dfMINK['Award_Year'] >= 2015)]"
   ]
  },
  {
   "cell_type": "code",
   "execution_count": 5,
   "metadata": {},
   "outputs": [
    {
     "data": {
      "text/html": [
       "<div>\n",
       "<style scoped>\n",
       "    .dataframe tbody tr th:only-of-type {\n",
       "        vertical-align: middle;\n",
       "    }\n",
       "\n",
       "    .dataframe tbody tr th {\n",
       "        vertical-align: top;\n",
       "    }\n",
       "\n",
       "    .dataframe thead th {\n",
       "        text-align: right;\n",
       "    }\n",
       "</style>\n",
       "<table border=\"1\" class=\"dataframe\">\n",
       "  <thead>\n",
       "    <tr style=\"text-align: right;\">\n",
       "      <th></th>\n",
       "      <th>Company</th>\n",
       "      <th>Award_Title</th>\n",
       "      <th>Agency</th>\n",
       "      <th>Branch</th>\n",
       "      <th>Phase</th>\n",
       "      <th>Program</th>\n",
       "      <th>Agency_Tracking_Number</th>\n",
       "      <th>Proposal_Award_Date</th>\n",
       "      <th>Contract_End_Date</th>\n",
       "      <th>Solicitation_Number</th>\n",
       "      <th>...</th>\n",
       "      <th>ZIP5</th>\n",
       "      <th>Zip</th>\n",
       "      <th>Contact_Name</th>\n",
       "      <th>Contact_Email</th>\n",
       "      <th>PI_Name</th>\n",
       "      <th>PI_Phone</th>\n",
       "      <th>PI_Email</th>\n",
       "      <th>RI_Name</th>\n",
       "      <th>Research_Keywords</th>\n",
       "      <th>Abstract</th>\n",
       "    </tr>\n",
       "  </thead>\n",
       "  <tbody>\n",
       "    <tr>\n",
       "      <th>0</th>\n",
       "      <td>MTI Biotech Incorporated</td>\n",
       "      <td>Hydroxybenzylamine for the prevention of Alzhe...</td>\n",
       "      <td>Department of Health and Human Services</td>\n",
       "      <td>NaN</td>\n",
       "      <td>Phase II</td>\n",
       "      <td>SBIR</td>\n",
       "      <td>R44AG055184</td>\n",
       "      <td>30-Sep-16</td>\n",
       "      <td>31-May-19</td>\n",
       "      <td>PAR14-088</td>\n",
       "      <td>...</td>\n",
       "      <td>50010</td>\n",
       "      <td>50010-8656</td>\n",
       "      <td>SHAWN M BAIER</td>\n",
       "      <td>baier@mti-hmb.com</td>\n",
       "      <td>JOHN A RATHMACHER</td>\n",
       "      <td>(515) 296-9916</td>\n",
       "      <td>rathmacher@mti-hmb.com</td>\n",
       "      <td>NaN</td>\n",
       "      <td>NaN</td>\n",
       "      <td>Approximately     million Americans are affect...</td>\n",
       "    </tr>\n",
       "    <tr>\n",
       "      <th>1</th>\n",
       "      <td>Aptalogic, Inc.</td>\n",
       "      <td>Early diagnosis of acute kidney injury by apta...</td>\n",
       "      <td>Department of Health and Human Services</td>\n",
       "      <td>National Institutes of Health</td>\n",
       "      <td>Phase II</td>\n",
       "      <td>SBIR</td>\n",
       "      <td>R44DK098031</td>\n",
       "      <td>14-Sep-15</td>\n",
       "      <td>31-Aug-19</td>\n",
       "      <td>PA14-071</td>\n",
       "      <td>...</td>\n",
       "      <td>50014</td>\n",
       "      <td>50014-4007</td>\n",
       "      <td>LINDA K LYNGHOLM</td>\n",
       "      <td>lindamolexpress@mchsi.com</td>\n",
       "      <td>MUSLUM ILGU</td>\n",
       "      <td>(515) 708-8353</td>\n",
       "      <td>ilgu@iastate.edu</td>\n",
       "      <td>NaN</td>\n",
       "      <td>NaN</td>\n",
       "      <td>DESCRIPTION  provided by applicant   Acute kid...</td>\n",
       "    </tr>\n",
       "    <tr>\n",
       "      <th>2</th>\n",
       "      <td>Parametric Studio, Inc.</td>\n",
       "      <td>Design Environment for Educator-Student Collab...</td>\n",
       "      <td>Department of Education</td>\n",
       "      <td>Institute of Education Sciences</td>\n",
       "      <td>Phase II</td>\n",
       "      <td>SBIR</td>\n",
       "      <td>EDIES17C0034</td>\n",
       "      <td>1-May-17</td>\n",
       "      <td>30-Apr-19</td>\n",
       "      <td>EDIES17R0006</td>\n",
       "      <td>...</td>\n",
       "      <td>50010</td>\n",
       "      <td>50010</td>\n",
       "      <td>Chris Whitmer</td>\n",
       "      <td>chris.whitmer.vsi@gmail.com</td>\n",
       "      <td>Chris Whitmer</td>\n",
       "      <td>(202) 245-7550</td>\n",
       "      <td>chris.whitmer.vsi@gmail.com</td>\n",
       "      <td>NaN</td>\n",
       "      <td>education technology,engineering,making,3d pri...</td>\n",
       "      <td>DESCARTES is a game-based engineering environm...</td>\n",
       "    </tr>\n",
       "    <tr>\n",
       "      <th>7</th>\n",
       "      <td>Parametric Studio, Inc.</td>\n",
       "      <td>SBIR Phase II: Engineering Design Instruction ...</td>\n",
       "      <td>National Science Foundation</td>\n",
       "      <td>NaN</td>\n",
       "      <td>Phase II</td>\n",
       "      <td>SBIR</td>\n",
       "      <td>1831202</td>\n",
       "      <td>1-Sep-18</td>\n",
       "      <td>31-Aug-20</td>\n",
       "      <td>NaN</td>\n",
       "      <td>...</td>\n",
       "      <td>50010</td>\n",
       "      <td>50010</td>\n",
       "      <td>Christopher E Whitmer</td>\n",
       "      <td>whitmer@parametricstudioinc.com</td>\n",
       "      <td>Christopher E Whitmer</td>\n",
       "      <td>(515) 520-7382</td>\n",
       "      <td>whitmer@parametricstudioinc.com</td>\n",
       "      <td>NaN</td>\n",
       "      <td>NaN</td>\n",
       "      <td>This SBIR Phase II project, the Engineering De...</td>\n",
       "    </tr>\n",
       "    <tr>\n",
       "      <th>8</th>\n",
       "      <td>Aptalogic, Inc.</td>\n",
       "      <td>Detecting Ebola Virus Infections</td>\n",
       "      <td>Department of Health and Human Services</td>\n",
       "      <td>NaN</td>\n",
       "      <td>Phase I</td>\n",
       "      <td>SBIR</td>\n",
       "      <td>R43AI118139</td>\n",
       "      <td>1-Apr-15</td>\n",
       "      <td>31-Mar-18</td>\n",
       "      <td>PA14-071</td>\n",
       "      <td>...</td>\n",
       "      <td>50014</td>\n",
       "      <td>50014-4007</td>\n",
       "      <td>LINDA K LYNGHOLM</td>\n",
       "      <td>lindamolexpress@mchsi.com</td>\n",
       "      <td>RICHARD T HAMILTON</td>\n",
       "      <td>(515) 292-5141</td>\n",
       "      <td>molexpress@mchsi.com</td>\n",
       "      <td>NaN</td>\n",
       "      <td>NaN</td>\n",
       "      <td>DESCRIPTION  provided by applicant   Ebolaviru...</td>\n",
       "    </tr>\n",
       "  </tbody>\n",
       "</table>\n",
       "<p>5 rows × 31 columns</p>\n",
       "</div>"
      ],
      "text/plain": [
       "                     Company  \\\n",
       "0  MTI Biotech Incorporated    \n",
       "1            Aptalogic, Inc.   \n",
       "2    Parametric Studio, Inc.   \n",
       "7    Parametric Studio, Inc.   \n",
       "8            Aptalogic, Inc.   \n",
       "\n",
       "                                         Award_Title  \\\n",
       "0  Hydroxybenzylamine for the prevention of Alzhe...   \n",
       "1  Early diagnosis of acute kidney injury by apta...   \n",
       "2  Design Environment for Educator-Student Collab...   \n",
       "7  SBIR Phase II: Engineering Design Instruction ...   \n",
       "8                   Detecting Ebola Virus Infections   \n",
       "\n",
       "                                    Agency                           Branch  \\\n",
       "0  Department of Health and Human Services                              NaN   \n",
       "1  Department of Health and Human Services    National Institutes of Health   \n",
       "2                  Department of Education  Institute of Education Sciences   \n",
       "7              National Science Foundation                              NaN   \n",
       "8  Department of Health and Human Services                              NaN   \n",
       "\n",
       "      Phase Program Agency_Tracking_Number Proposal_Award_Date  \\\n",
       "0  Phase II    SBIR            R44AG055184           30-Sep-16   \n",
       "1  Phase II    SBIR            R44DK098031           14-Sep-15   \n",
       "2  Phase II    SBIR           EDIES17C0034            1-May-17   \n",
       "7  Phase II    SBIR                1831202            1-Sep-18   \n",
       "8   Phase I    SBIR            R43AI118139            1-Apr-15   \n",
       "\n",
       "  Contract_End_Date Solicitation_Number  ...   ZIP5         Zip  \\\n",
       "0         31-May-19           PAR14-088  ...  50010  50010-8656   \n",
       "1         31-Aug-19            PA14-071  ...  50014  50014-4007   \n",
       "2         30-Apr-19        EDIES17R0006  ...  50010       50010   \n",
       "7         31-Aug-20                 NaN  ...  50010       50010   \n",
       "8         31-Mar-18            PA14-071  ...  50014  50014-4007   \n",
       "\n",
       "             Contact_Name                    Contact_Email  \\\n",
       "0          SHAWN M BAIER                 baier@mti-hmb.com   \n",
       "1       LINDA K LYNGHOLM         lindamolexpress@mchsi.com   \n",
       "2          Chris Whitmer       chris.whitmer.vsi@gmail.com   \n",
       "7  Christopher E Whitmer   whitmer@parametricstudioinc.com   \n",
       "8       LINDA K LYNGHOLM         lindamolexpress@mchsi.com   \n",
       "\n",
       "                  PI_Name        PI_Phone                         PI_Email  \\\n",
       "0      JOHN A RATHMACHER   (515) 296-9916           rathmacher@mti-hmb.com   \n",
       "1            MUSLUM ILGU   (515) 708-8353                 ilgu@iastate.edu   \n",
       "2          Chris Whitmer   (202) 245-7550      chris.whitmer.vsi@gmail.com   \n",
       "7  Christopher E Whitmer   (515) 520-7382  whitmer@parametricstudioinc.com   \n",
       "8     RICHARD T HAMILTON   (515) 292-5141             molexpress@mchsi.com   \n",
       "\n",
       "  RI_Name                                  Research_Keywords  \\\n",
       "0     NaN                                                NaN   \n",
       "1     NaN                                                NaN   \n",
       "2     NaN  education technology,engineering,making,3d pri...   \n",
       "7     NaN                                                NaN   \n",
       "8     NaN                                                NaN   \n",
       "\n",
       "                                            Abstract  \n",
       "0  Approximately     million Americans are affect...  \n",
       "1  DESCRIPTION  provided by applicant   Acute kid...  \n",
       "2  DESCARTES is a game-based engineering environm...  \n",
       "7  This SBIR Phase II project, the Engineering De...  \n",
       "8  DESCRIPTION  provided by applicant   Ebolaviru...  \n",
       "\n",
       "[5 rows x 31 columns]"
      ]
     },
     "execution_count": 5,
     "metadata": {},
     "output_type": "execute_result"
    }
   ],
   "source": [
    "dfMINK.head()"
   ]
  },
  {
   "cell_type": "code",
   "execution_count": 6,
   "metadata": {},
   "outputs": [
    {
     "name": "stdout",
     "output_type": "stream",
     "text": [
      "<class 'pandas.core.frame.DataFrame'>\n",
      "Int64Index: 460 entries, 0 to 875\n",
      "Data columns (total 31 columns):\n",
      " #   Column                                   Non-Null Count  Dtype  \n",
      "---  ------                                   --------------  -----  \n",
      " 0   Company                                  460 non-null    object \n",
      " 1   Award_Title                              460 non-null    object \n",
      " 2   Agency                                   460 non-null    object \n",
      " 3   Branch                                   214 non-null    object \n",
      " 4   Phase                                    460 non-null    object \n",
      " 5   Program                                  460 non-null    object \n",
      " 6   Agency_Tracking_Number                   460 non-null    object \n",
      " 7   Proposal_Award_Date                      446 non-null    object \n",
      " 8   Contract_End_Date                        438 non-null    object \n",
      " 9   Solicitation_Number                      351 non-null    object \n",
      " 10  Solicitation_Year                        460 non-null    float64\n",
      " 11  Topic_Code                               458 non-null    object \n",
      " 12  Award_Year                               460 non-null    int64  \n",
      " 13  Award_Amount                             460 non-null    float64\n",
      " 14  DUNS                                     459 non-null    object \n",
      " 15  Hubzone_Owned                            460 non-null    object \n",
      " 16  Socially_and_Economically_Disadvantaged  460 non-null    object \n",
      " 17  Woman_Owned                              460 non-null    object \n",
      " 18  Number_Employees                         223 non-null    float64\n",
      " 19  City                                     460 non-null    object \n",
      " 20  State                                    460 non-null    object \n",
      " 21  ZIP5                                     460 non-null    int64  \n",
      " 22  Zip                                      460 non-null    object \n",
      " 23  Contact_Name                             460 non-null    object \n",
      " 24  Contact_Email                            460 non-null    object \n",
      " 25  PI_Name                                  460 non-null    object \n",
      " 26  PI_Phone                                 460 non-null    object \n",
      " 27  PI_Email                                 460 non-null    object \n",
      " 28  RI_Name                                  72 non-null     object \n",
      " 29  Research_Keywords                        138 non-null    object \n",
      " 30  Abstract                                 460 non-null    object \n",
      "dtypes: float64(3), int64(2), object(26)\n",
      "memory usage: 115.0+ KB\n"
     ]
    }
   ],
   "source": [
    "dfMINK.info()"
   ]
  },
  {
   "cell_type": "raw",
   "metadata": {},
   "source": [
    "dfMINK.to_excel('data/SBIR_Expenditures_MINK_06262020.xls')"
   ]
  },
  {
   "cell_type": "markdown",
   "metadata": {},
   "source": [
    "C. Preliminary Regional Analysis"
   ]
  },
  {
   "cell_type": "code",
   "execution_count": 7,
   "metadata": {},
   "outputs": [
    {
     "data": {
      "text/plain": [
       "count    4.600000e+02\n",
       "mean     4.331042e+05\n",
       "std      4.696318e+05\n",
       "min      5.000000e+04\n",
       "25%      1.499950e+05\n",
       "50%      2.250000e+05\n",
       "75%      5.217415e+05\n",
       "max      3.041371e+06\n",
       "Name: Award_Amount, dtype: float64"
      ]
     },
     "execution_count": 7,
     "metadata": {},
     "output_type": "execute_result"
    }
   ],
   "source": [
    "dfMINK.Award_Amount.describe()"
   ]
  },
  {
   "cell_type": "code",
   "execution_count": 9,
   "metadata": {},
   "outputs": [
    {
     "data": {
      "text/plain": [
       "199227949.79000002"
      ]
     },
     "execution_count": 9,
     "metadata": {},
     "output_type": "execute_result"
    }
   ],
   "source": [
    "dfMINK.Award_Amount.sum()"
   ]
  },
  {
   "cell_type": "code",
   "execution_count": null,
   "metadata": {},
   "outputs": [],
   "source": [
    "# 199,227,949 0.20 B "
   ]
  },
  {
   "cell_type": "code",
   "execution_count": 8,
   "metadata": {},
   "outputs": [
    {
     "data": {
      "text/plain": [
       "count    223.000000\n",
       "mean      10.188341\n",
       "std       25.679249\n",
       "min        1.000000\n",
       "25%        3.000000\n",
       "50%        5.000000\n",
       "75%        9.500000\n",
       "max      342.000000\n",
       "Name: Number_Employees, dtype: float64"
      ]
     },
     "execution_count": 8,
     "metadata": {},
     "output_type": "execute_result"
    }
   ],
   "source": [
    "dfMINK.Number_Employees.describe()"
   ]
  },
  {
   "cell_type": "code",
   "execution_count": 9,
   "metadata": {},
   "outputs": [
    {
     "data": {
      "text/plain": [
       "State\n",
       "MO    230\n",
       "IA    101\n",
       "KS     83\n",
       "NE     46\n",
       "dtype: int64"
      ]
     },
     "execution_count": 9,
     "metadata": {},
     "output_type": "execute_result"
    }
   ],
   "source": [
    "dfMINK.groupby('State').size().sort_values(ascending=False)"
   ]
  },
  {
   "cell_type": "code",
   "execution_count": 10,
   "metadata": {},
   "outputs": [
    {
     "data": {
      "text/plain": [
       "count      4.000000\n",
       "mean     115.000000\n",
       "std       80.012499\n",
       "min       46.000000\n",
       "25%       73.750000\n",
       "50%       92.000000\n",
       "75%      133.250000\n",
       "max      230.000000\n",
       "dtype: float64"
      ]
     },
     "execution_count": 10,
     "metadata": {},
     "output_type": "execute_result"
    }
   ],
   "source": [
    "dfMINK.groupby('State').size().describe()"
   ]
  },
  {
   "cell_type": "code",
   "execution_count": null,
   "metadata": {},
   "outputs": [],
   "source": []
  },
  {
   "cell_type": "code",
   "execution_count": 13,
   "metadata": {
    "scrolled": true
   },
   "outputs": [
    {
     "data": {
      "text/plain": [
       "<matplotlib.axes._subplots.AxesSubplot at 0x25fa535acc8>"
      ]
     },
     "execution_count": 13,
     "metadata": {},
     "output_type": "execute_result"
    },
    {
     "data": {
      "image/png": "[encoded data removed]",
      "text/plain": [
       "<Figure size 432x288 with 1 Axes>"
      ]
     },
     "metadata": {
      "needs_background": "light"
     },
     "output_type": "display_data"
    }
   ],
   "source": [
    "dfMINK.groupby('Agency').size().sort_values(ascending=True).plot(kind='barh')"
   ]
  },
  {
   "cell_type": "code",
   "execution_count": 14,
   "metadata": {
    "scrolled": true
   },
   "outputs": [
    {
     "data": {
      "text/plain": [
       "Agency\n",
       "Department of Health and Human Services          220\n",
       "Department of Defense                             83\n",
       "National Science Foundation                       46\n",
       "Department of Agriculture                         45\n",
       "National Aeronautics and Space Administration     27\n",
       "Department of Energy                              26\n",
       "Department of Transportation                       5\n",
       "Department of Education                            4\n",
       "Department of Commerce                             4\n",
       "dtype: int64"
      ]
     },
     "execution_count": 14,
     "metadata": {},
     "output_type": "execute_result"
    }
   ],
   "source": [
    "dfMINK.groupby('Agency').size().sort_values(ascending=False)"
   ]
  },
  {
   "cell_type": "code",
   "execution_count": 27,
   "metadata": {},
   "outputs": [
    {
     "data": {
      "text/plain": [
       "Branch\n",
       "National Institutes of Health                      124\n",
       "Air Force                                           31\n",
       "Navy                                                27\n",
       "Army                                                10\n",
       "Defense Advanced Research Projects Agency            4\n",
       "Office for Chemical and Biological Defense           3\n",
       "Institute of Education Sciences                      3\n",
       "Defense Threat Reduction Agency                      3\n",
       "Defense Logistics Agency                             3\n",
       "National Oceanic and Atmospheric Administration      2\n",
       "Office of the Secretary of Defense                   1\n",
       "National Institute of Standards and Technology       1\n",
       "Defense Microelectronics Activity                    1\n",
       "ARPA-E                                               1\n",
       "dtype: int64"
      ]
     },
     "execution_count": 27,
     "metadata": {},
     "output_type": "execute_result"
    }
   ],
   "source": [
    "dfMINK.groupby('Branch').size().sort_values(ascending=False)"
   ]
  },
  {
   "cell_type": "code",
   "execution_count": 29,
   "metadata": {},
   "outputs": [
    {
     "data": {
      "text/plain": [
       "Program\n",
       "SBIR    378\n",
       "STTR     82\n",
       "dtype: int64"
      ]
     },
     "execution_count": 29,
     "metadata": {},
     "output_type": "execute_result"
    }
   ],
   "source": [
    "dfMINK.groupby('Program').size().sort_values(ascending=False)"
   ]
  },
  {
   "cell_type": "code",
   "execution_count": 30,
   "metadata": {},
   "outputs": [
    {
     "data": {
      "text/plain": [
       "Award_Year\n",
       "2018    113\n",
       "2019     99\n",
       "2017     92\n",
       "2016     84\n",
       "2015     71\n",
       "2020      1\n",
       "dtype: int64"
      ]
     },
     "execution_count": 30,
     "metadata": {},
     "output_type": "execute_result"
    }
   ],
   "source": [
    "dfMINK.groupby('Award_Year').size().sort_values(ascending=False)"
   ]
  },
  {
   "cell_type": "code",
   "execution_count": 17,
   "metadata": {},
   "outputs": [
    {
     "data": {
      "text/plain": [
       "Topic_Code\n",
       "102      31\n",
       "NIAID    22\n",
       "NHLBI    21\n",
       "101      14\n",
       "400      13\n",
       "NCI      10\n",
       "CT        9\n",
       "NIDCD     8\n",
       "BT        8\n",
       "82        8\n",
       "300       8\n",
       "100       8\n",
       "BM        7\n",
       "85        7\n",
       "NIA       7\n",
       "83        7\n",
       "NIAMS     6\n",
       "EA        6\n",
       "NINDS     6\n",
       "105       5\n",
       "EW        5\n",
       "86        5\n",
       "84        5\n",
       "172       4\n",
       "SH        4\n",
       "dtype: int64"
      ]
     },
     "execution_count": 17,
     "metadata": {},
     "output_type": "execute_result"
    }
   ],
   "source": [
    "dfMINK.groupby('Topic_Code').size().sort_values(ascending=False).head(25)"
   ]
  },
  {
   "cell_type": "code",
   "execution_count": 18,
   "metadata": {},
   "outputs": [
    {
     "data": {
      "text/plain": [
       "ZIP5\n",
       "63108    53\n",
       "63132    31\n",
       "52241    22\n",
       "66046    18\n",
       "65201    17\n",
       "66047    13\n",
       "66502    13\n",
       "50010    12\n",
       "65559    11\n",
       "65211    10\n",
       "52246    10\n",
       "65203     9\n",
       "50014     9\n",
       "63117     9\n",
       "66061     8\n",
       "65401     8\n",
       "50011     8\n",
       "63130     7\n",
       "63101     7\n",
       "63110     6\n",
       "68114     6\n",
       "66103     6\n",
       "52240     5\n",
       "68430     5\n",
       "68502     5\n",
       "dtype: int64"
      ]
     },
     "execution_count": 18,
     "metadata": {},
     "output_type": "execute_result"
    }
   ],
   "source": [
    "dfMINK.groupby('ZIP5').size().sort_values(ascending=False).head(25)"
   ]
  },
  {
   "cell_type": "code",
   "execution_count": 19,
   "metadata": {},
   "outputs": [
    {
     "data": {
      "text/plain": [
       "City\n",
       "Saint Louis        138\n",
       "Columbia            40\n",
       "Lawrence            38\n",
       "Ames                28\n",
       "Coralville          20\n",
       "Iowa City           20\n",
       "Lincoln             20\n",
       "Manhattan           17\n",
       "Kansas City         16\n",
       "Omaha               13\n",
       "Saint James         11\n",
       "Rolla                8\n",
       "Olathe               8\n",
       "Chesterfield         5\n",
       "Wichita              5\n",
       "Roca                 5\n",
       "Clinton              4\n",
       "Drexel               4\n",
       "West Des Moines      4\n",
       "Solon                4\n",
       "Ankeny               3\n",
       "Overland Park        3\n",
       "Malcolm              3\n",
       "Venango              2\n",
       "Des Moines           2\n",
       "dtype: int64"
      ]
     },
     "execution_count": 19,
     "metadata": {},
     "output_type": "execute_result"
    }
   ],
   "source": [
    "dfMINK.groupby('City').size().sort_values(ascending=False).head(25)"
   ]
  },
  {
   "cell_type": "code",
   "execution_count": 20,
   "metadata": {},
   "outputs": [
    {
     "data": {
      "text/plain": [
       "State\n",
       "MO    10\n",
       "KS     6\n",
       "dtype: int64"
      ]
     },
     "execution_count": 20,
     "metadata": {},
     "output_type": "execute_result"
    }
   ],
   "source": [
    "dfMINK[(dfMINK['City'] == \"Kansas City\")].groupby('State').size().sort_values(ascending=False)"
   ]
  },
  {
   "cell_type": "code",
   "execution_count": 174,
   "metadata": {},
   "outputs": [
    {
     "data": {
      "text/plain": [
       "RI_Name\n",
       "washington university                              24\n",
       "kansas state university                             5\n",
       "university of iowa                                  4\n",
       "iowa state university                               4\n",
       "missouri university of science and technology       3\n",
       "missouri university of science and                  2\n",
       "ohio state university                               2\n",
       "university of missouri                              2\n",
       "university of missouri kansas city                  2\n",
       "university of nebraska lincoln                      2\n",
       "the university of texas at austin                   1\n",
       "iowa state university of science and technology     1\n",
       "illinois institute of technology                    1\n",
       "oregon health &amp; science university              1\n",
       "dana-farber cancer inst                             1\n",
       "seattle children&apos;s hospital                    1\n",
       "state university of iowa                            1\n",
       "texas a&amp;m engineering experiment station        1\n",
       "university of georgia                               1\n",
       "university of california san diego                  1\n",
       "washington state university                         1\n",
       "university of illinois                              1\n",
       "university of iowa (operator performance lab)       1\n",
       "university of kansas center for research inc        1\n",
       "university of missouri - columbia                   1\n",
       "dtype: int64"
      ]
     },
     "execution_count": 174,
     "metadata": {},
     "output_type": "execute_result"
    }
   ],
   "source": [
    "dfMINK['RI_Name']=dfMINK['RI_Name'].str.lower()\n",
    "dfMINK.groupby('RI_Name').size().sort_values(ascending=False).head(25)"
   ]
  },
  {
   "cell_type": "code",
   "execution_count": null,
   "metadata": {},
   "outputs": [],
   "source": []
  },
  {
   "cell_type": "markdown",
   "metadata": {},
   "source": [
    "2018 Analysis"
   ]
  },
  {
   "cell_type": "code",
   "execution_count": 175,
   "metadata": {},
   "outputs": [
    {
     "data": {
      "text/plain": [
       "State\n",
       "MO    61\n",
       "IA    23\n",
       "KS    22\n",
       "NE     7\n",
       "dtype: int64"
      ]
     },
     "execution_count": 175,
     "metadata": {},
     "output_type": "execute_result"
    }
   ],
   "source": [
    "dfMINK[(dfMINK['Award_Year'] == 2018)].groupby('State').size().sort_values(ascending=False)"
   ]
  },
  {
   "cell_type": "code",
   "execution_count": null,
   "metadata": {},
   "outputs": [],
   "source": []
  },
  {
   "cell_type": "code",
   "execution_count": 176,
   "metadata": {},
   "outputs": [
    {
     "data": {
      "text/plain": [
       "Agency\n",
       "Department of Health and Human Services          58\n",
       "Department of Defense                            19\n",
       "National Science Foundation                      10\n",
       "Department of Agriculture                         9\n",
       "Department of Energy                              8\n",
       "National Aeronautics and Space Administration     6\n",
       "Department of Transportation                      2\n",
       "Department of Commerce                            1\n",
       "dtype: int64"
      ]
     },
     "execution_count": 176,
     "metadata": {},
     "output_type": "execute_result"
    }
   ],
   "source": [
    "dfMINK[(dfMINK['Award_Year'] == 2018)].groupby('Agency').size().sort_values(ascending=False)"
   ]
  },
  {
   "cell_type": "code",
   "execution_count": 242,
   "metadata": {},
   "outputs": [
    {
     "data": {
      "text/plain": [
       "RI_Name\n",
       "washington university                              10\n",
       "university of missouri                              2\n",
       "kansas state university                             2\n",
       "university of missouri - columbia                   1\n",
       "university of kansas center for research inc        1\n",
       "university of iowa                                  1\n",
       "the university of texas at austin                   1\n",
       "state university of iowa                            1\n",
       "missouri university of science and technology       1\n",
       "missouri university of science and                  1\n",
       "iowa state university of science and technology     1\n",
       "dtype: int64"
      ]
     },
     "execution_count": 242,
     "metadata": {},
     "output_type": "execute_result"
    }
   ],
   "source": [
    "dfMINK[(dfMINK['Award_Year'] == 2018)].groupby('RI_Name').size().sort_values(ascending=False)"
   ]
  },
  {
   "cell_type": "code",
   "execution_count": 245,
   "metadata": {},
   "outputs": [
    {
     "data": {
      "text/plain": [
       "Topic_Code\n",
       "NHLBI       9\n",
       "102         8\n",
       "NIAID       5\n",
       "400         5\n",
       "BM          4\n",
       "           ..\n",
       "AF17CT04    1\n",
       "Z8          1\n",
       "AF171055    1\n",
       "AF171015    1\n",
       "01b         1\n",
       "Length: 69, dtype: int64"
      ]
     },
     "execution_count": 245,
     "metadata": {},
     "output_type": "execute_result"
    }
   ],
   "source": [
    "dfMINK[(dfMINK['Award_Year'] == 2018)].groupby('Topic_Code').size().sort_values(ascending=False)"
   ]
  },
  {
   "cell_type": "code",
   "execution_count": 21,
   "metadata": {},
   "outputs": [
    {
     "data": {
      "text/plain": [
       "City\n",
       "Saint Louis        16804899.00\n",
       "Columbia            3472626.85\n",
       "Lawrence            3076532.00\n",
       "Omaha               2962787.00\n",
       "Lincoln             2279194.00\n",
       "Olathe              2201637.00\n",
       "Coralville          2067534.00\n",
       "Ames                1943903.27\n",
       "Saint James         1581686.00\n",
       "Kansas City         1491111.00\n",
       "Iowa City           1146637.00\n",
       "Rolla               1110584.00\n",
       "Solon               1099999.00\n",
       "Overland Park        720181.00\n",
       "Clinton              700000.00\n",
       "Manhattan            595136.00\n",
       "Roca                 499517.00\n",
       "Wichita              397468.80\n",
       "Ballwin              299999.00\n",
       "Chesterfield         292082.00\n",
       "Dubuque              224511.00\n",
       "Augusta              224094.00\n",
       "Boone                150000.00\n",
       "Drexel               120000.00\n",
       "West Des Moines      100000.00\n",
       "Grandview             99864.82\n",
       "Name: Award_Amount, dtype: float64"
      ]
     },
     "execution_count": 21,
     "metadata": {},
     "output_type": "execute_result"
    }
   ],
   "source": [
    "dfMINK[(dfMINK['Award_Year'] == 2018)].groupby('City').Award_Amount.sum().sort_values(ascending=False)"
   ]
  },
  {
   "cell_type": "code",
   "execution_count": 24,
   "metadata": {},
   "outputs": [],
   "source": [
    "df18 = dfMINK[(dfMINK['Award_Year'] == 2018)]"
   ]
  },
  {
   "cell_type": "code",
   "execution_count": 25,
   "metadata": {},
   "outputs": [
    {
     "data": {
      "text/plain": [
       "State\n",
       "MO    1191180.0\n",
       "KS     299931.0\n",
       "Name: Award_Amount, dtype: float64"
      ]
     },
     "execution_count": 25,
     "metadata": {},
     "output_type": "execute_result"
    }
   ],
   "source": [
    "df18[(df18['City'] == \"Kansas City\")].groupby('State').Award_Amount.sum().sort_values(ascending=False)"
   ]
  },
  {
   "cell_type": "code",
   "execution_count": 31,
   "metadata": {},
   "outputs": [
    {
     "data": {
      "text/plain": [
       "Branch\n",
       "National Institutes of Health                      19421105.00\n",
       "Navy                                                3267902.00\n",
       "Air Force                                           3097221.00\n",
       "Army                                                 667133.51\n",
       "Office for Chemical and Biological Defense           149503.95\n",
       "National Oceanic and Atmospheric Administration      120000.00\n",
       "Defense Logistics Agency                              98454.80\n",
       "Name: Award_Amount, dtype: float64"
      ]
     },
     "execution_count": 31,
     "metadata": {},
     "output_type": "execute_result"
    }
   ],
   "source": [
    "df18.groupby('Branch').Award_Amount.sum().sort_values(ascending=False)"
   ]
  },
  {
   "cell_type": "code",
   "execution_count": null,
   "metadata": {},
   "outputs": [],
   "source": []
  },
  {
   "cell_type": "markdown",
   "metadata": {},
   "source": [
    "C.  Preliminary State Level Analysis"
   ]
  },
  {
   "cell_type": "code",
   "execution_count": 177,
   "metadata": {},
   "outputs": [],
   "source": [
    "# Create Sub Tables for Each State\n",
    "\n",
    "dfKANS = dfMINK.loc[dfMINK['State']== 'KS']\n",
    "dfKS18 = dfKANS[(dfKANS['Award_Year'] == 2018)]"
   ]
  },
  {
   "cell_type": "code",
   "execution_count": 178,
   "metadata": {},
   "outputs": [],
   "source": [
    "dfIOWA = dfMINK.loc[dfMINK['State']== 'IA']\n",
    "dfIA18 = dfIOWA[(dfIOWA['Award_Year'] == 2018)]"
   ]
  },
  {
   "cell_type": "code",
   "execution_count": 179,
   "metadata": {},
   "outputs": [],
   "source": [
    "dfMIZZO = dfMINK.loc[dfMINK['State']== 'MO']\n",
    "dfMO18 = dfMIZZO[(dfMIZZO['Award_Year'] == 2018)]"
   ]
  },
  {
   "cell_type": "code",
   "execution_count": 180,
   "metadata": {},
   "outputs": [],
   "source": [
    "dfNEBR = dfMINK.loc[dfMINK['State']== 'NE']\n",
    "dfNE18 = dfNEBR[(dfNEBR['Award_Year'] == 2018)]"
   ]
  },
  {
   "cell_type": "markdown",
   "metadata": {},
   "source": [
    "KANSAS"
   ]
  },
  {
   "cell_type": "code",
   "execution_count": 181,
   "metadata": {},
   "outputs": [
    {
     "data": {
      "text/plain": [
       "Award_Year\n",
       "2018    22\n",
       "2019    19\n",
       "2015    19\n",
       "2017    14\n",
       "2016     9\n",
       "dtype: int64"
      ]
     },
     "execution_count": 181,
     "metadata": {},
     "output_type": "execute_result"
    }
   ],
   "source": [
    "dfKANS.groupby('Award_Year').size().sort_values(ascending=False)"
   ]
  },
  {
   "cell_type": "code",
   "execution_count": 182,
   "metadata": {},
   "outputs": [
    {
     "data": {
      "text/plain": [
       "Award_Year\n",
       "2018    7514979.80\n",
       "2017    7069786.69\n",
       "2015    6653467.00\n",
       "2019    4964202.00\n",
       "2016    3975662.00\n",
       "Name: Award_Amount, dtype: float64"
      ]
     },
     "execution_count": 182,
     "metadata": {},
     "output_type": "execute_result"
    }
   ],
   "source": [
    "dfKANS.groupby('Award_Year').Award_Amount.sum().sort_values(ascending=False)"
   ]
  },
  {
   "cell_type": "markdown",
   "metadata": {},
   "source": [
    "KANSAS 2018 Awards"
   ]
  },
  {
   "cell_type": "code",
   "execution_count": 183,
   "metadata": {
    "scrolled": true
   },
   "outputs": [
    {
     "data": {
      "text/plain": [
       "Agency\n",
       "Department of Health and Human Services          13\n",
       "National Science Foundation                       3\n",
       "National Aeronautics and Space Administration     2\n",
       "Department of Energy                              2\n",
       "Department of Defense                             1\n",
       "Department of Agriculture                         1\n",
       "dtype: int64"
      ]
     },
     "execution_count": 183,
     "metadata": {},
     "output_type": "execute_result"
    }
   ],
   "source": [
    "dfKS18.groupby('Agency').size().sort_values(ascending=False)"
   ]
  },
  {
   "cell_type": "code",
   "execution_count": 184,
   "metadata": {},
   "outputs": [
    {
     "data": {
      "text/plain": [
       "Company\n",
       "Radiation Detection Technologies, Inc.    2\n",
       "Nectagen, Inc.                            2\n",
       "Metactive Medical, Inc.                   2\n",
       "Design-Zyme LLC                           2\n",
       "Digital Nanogenetics LLC                  1\n",
       "dtype: int64"
      ]
     },
     "execution_count": 184,
     "metadata": {},
     "output_type": "execute_result"
    }
   ],
   "source": [
    "dfKS18.groupby('Company').size().sort_values(ascending=False).head(5)"
   ]
  },
  {
   "cell_type": "code",
   "execution_count": 185,
   "metadata": {},
   "outputs": [
    {
     "data": {
      "text/plain": [
       "City\n",
       "Lawrence       8\n",
       "Olathe         4\n",
       "Manhattan      4\n",
       "Wichita        2\n",
       "Kansas City    2\n",
       "dtype: int64"
      ]
     },
     "execution_count": 185,
     "metadata": {},
     "output_type": "execute_result"
    }
   ],
   "source": [
    "dfKS18.groupby('City').size().sort_values(ascending=False).head(5)"
   ]
  },
  {
   "cell_type": "code",
   "execution_count": 186,
   "metadata": {},
   "outputs": [
    {
     "data": {
      "text/plain": [
       "ZIP5\n",
       "66047    5\n",
       "66061    4\n",
       "66503    2\n",
       "66502    2\n",
       "66103    2\n",
       "dtype: int64"
      ]
     },
     "execution_count": 186,
     "metadata": {},
     "output_type": "execute_result"
    }
   ],
   "source": [
    "dfKS18.groupby('ZIP5').size().sort_values(ascending=False).head(5)"
   ]
  },
  {
   "cell_type": "code",
   "execution_count": 187,
   "metadata": {},
   "outputs": [
    {
     "data": {
      "text/plain": [
       "Agency\n",
       "Department of Health and Human Services          5527155.0\n",
       "National Science Foundation                      1170181.0\n",
       "Department of Energy                              374048.0\n",
       "National Aeronautics and Space Administration     245221.0\n",
       "Department of Agriculture                          99920.0\n",
       "Department of Defense                              98454.8\n",
       "Name: Award_Amount, dtype: float64"
      ]
     },
     "execution_count": 187,
     "metadata": {},
     "output_type": "execute_result"
    }
   ],
   "source": [
    "dfKS18.groupby('Agency').Award_Amount.sum().sort_values(ascending=False)"
   ]
  },
  {
   "cell_type": "code",
   "execution_count": 188,
   "metadata": {},
   "outputs": [
    {
     "data": {
      "text/plain": [
       "Company\n",
       "Metactive Medical, Inc.     1720715.0\n",
       "Evoke Medical, LLC          1498797.0\n",
       "Impedx Diagnostics Inc.      720181.0\n",
       "Design-Zyme LLC              524742.0\n",
       "Digital Nanogenetics LLC     300000.0\n",
       "Name: Award_Amount, dtype: float64"
      ]
     },
     "execution_count": 188,
     "metadata": {},
     "output_type": "execute_result"
    }
   ],
   "source": [
    "dfKS18.groupby('Company').Award_Amount.sum().sort_values(ascending=False).head(5)"
   ]
  },
  {
   "cell_type": "code",
   "execution_count": 189,
   "metadata": {},
   "outputs": [
    {
     "data": {
      "text/plain": [
       "City\n",
       "Lawrence         3076532.0\n",
       "Olathe           2201637.0\n",
       "Overland Park     720181.0\n",
       "Manhattan         595136.0\n",
       "Wichita           397468.8\n",
       "Kansas City       299931.0\n",
       "Augusta           224094.0\n",
       "Name: Award_Amount, dtype: float64"
      ]
     },
     "execution_count": 189,
     "metadata": {},
     "output_type": "execute_result"
    }
   ],
   "source": [
    "dfKS18.groupby('City').Award_Amount.sum().sort_values(ascending=False)\n"
   ]
  },
  {
   "cell_type": "code",
   "execution_count": 190,
   "metadata": {},
   "outputs": [
    {
     "data": {
      "text/plain": [
       "ZIP5\n",
       "66061    2201637.0\n",
       "66044    1498797.0\n",
       "66047    1227776.0\n",
       "66212     720181.0\n",
       "66046     349959.0\n",
       "Name: Award_Amount, dtype: float64"
      ]
     },
     "execution_count": 190,
     "metadata": {},
     "output_type": "execute_result"
    }
   ],
   "source": [
    "dfKS18.groupby('ZIP5').Award_Amount.sum().sort_values(ascending=False).head(5)"
   ]
  },
  {
   "cell_type": "markdown",
   "metadata": {},
   "source": [
    "MISSOURI"
   ]
  },
  {
   "cell_type": "code",
   "execution_count": 191,
   "metadata": {
    "scrolled": true
   },
   "outputs": [
    {
     "data": {
      "text/plain": [
       "Award_Year\n",
       "2018    61\n",
       "2019    54\n",
       "2017    43\n",
       "2016    41\n",
       "2015    30\n",
       "2020     1\n",
       "dtype: int64"
      ]
     },
     "execution_count": 191,
     "metadata": {},
     "output_type": "execute_result"
    }
   ],
   "source": [
    "dfMIZZO.groupby('Award_Year').size().sort_values(ascending=False)"
   ]
  },
  {
   "cell_type": "code",
   "execution_count": 192,
   "metadata": {},
   "outputs": [
    {
     "data": {
      "text/plain": [
       "Award_Year\n",
       "2018    24972921.67\n",
       "2017    24676174.58\n",
       "2016    20991838.57\n",
       "2019    18884229.00\n",
       "2015    14857054.00\n",
       "2020      250000.00\n",
       "Name: Award_Amount, dtype: float64"
      ]
     },
     "execution_count": 192,
     "metadata": {},
     "output_type": "execute_result"
    }
   ],
   "source": [
    "dfMIZZO.groupby('Award_Year').Award_Amount.sum().sort_values(ascending=False)"
   ]
  },
  {
   "cell_type": "markdown",
   "metadata": {},
   "source": [
    "MISSOURI 2018 Awards"
   ]
  },
  {
   "cell_type": "code",
   "execution_count": 193,
   "metadata": {
    "scrolled": false
   },
   "outputs": [
    {
     "data": {
      "text/plain": [
       "Agency\n",
       "Department of Health and Human Services          32\n",
       "Department of Defense                            11\n",
       "National Science Foundation                       4\n",
       "National Aeronautics and Space Administration     4\n",
       "Department of Agriculture                         4\n",
       "Department of Energy                              3\n",
       "Department of Transportation                      2\n",
       "Department of Commerce                            1\n",
       "dtype: int64"
      ]
     },
     "execution_count": 193,
     "metadata": {},
     "output_type": "execute_result"
    }
   ],
   "source": [
    "dfMO18.groupby('Agency').size().sort_values(ascending=False)"
   ]
  },
  {
   "cell_type": "code",
   "execution_count": 194,
   "metadata": {
    "scrolled": true
   },
   "outputs": [
    {
     "data": {
      "text/plain": [
       "Company\n",
       "Product Innovation And Engineering, LLC    4\n",
       "APT THERAPEUTICS, INC.                     4\n",
       "Thermavant Technologies, L.L.C.            3\n",
       "LICKENBROCK TECHNOLOGIES, INC.             2\n",
       "NewVentureIQ, LLC                          2\n",
       "dtype: int64"
      ]
     },
     "execution_count": 194,
     "metadata": {},
     "output_type": "execute_result"
    }
   ],
   "source": [
    "dfMO18.groupby('Company').size().sort_values(ascending=False).head(5)"
   ]
  },
  {
   "cell_type": "code",
   "execution_count": 195,
   "metadata": {
    "scrolled": true
   },
   "outputs": [
    {
     "data": {
      "text/plain": [
       "City\n",
       "Saint Louis    35\n",
       "Columbia       11\n",
       "Saint James     4\n",
       "Kansas City     4\n",
       "Rolla           3\n",
       "dtype: int64"
      ]
     },
     "execution_count": 195,
     "metadata": {},
     "output_type": "execute_result"
    }
   ],
   "source": [
    "dfMO18.groupby('City').size().sort_values(ascending=False).head(5)"
   ]
  },
  {
   "cell_type": "code",
   "execution_count": 196,
   "metadata": {
    "scrolled": true
   },
   "outputs": [
    {
     "data": {
      "text/plain": [
       "ZIP5\n",
       "63108    16\n",
       "63132     7\n",
       "65201     6\n",
       "65559     4\n",
       "65203     3\n",
       "dtype: int64"
      ]
     },
     "execution_count": 196,
     "metadata": {},
     "output_type": "execute_result"
    }
   ],
   "source": [
    "dfMO18.groupby('ZIP5').size().sort_values(ascending=False).head(5)"
   ]
  },
  {
   "cell_type": "code",
   "execution_count": 197,
   "metadata": {
    "scrolled": true
   },
   "outputs": [
    {
     "data": {
      "text/plain": [
       "Agency\n",
       "Department of Health and Human Services          15552210.00\n",
       "Department of Defense                             5183243.92\n",
       "National Science Foundation                       1366059.00\n",
       "National Aeronautics and Space Administration     1123196.00\n",
       "Department of Agriculture                          896518.00\n",
       "Department of Energy                               449736.00\n",
       "Department of Transportation                       281958.75\n",
       "Department of Commerce                             120000.00\n",
       "Name: Award_Amount, dtype: float64"
      ]
     },
     "execution_count": 197,
     "metadata": {},
     "output_type": "execute_result"
    }
   ],
   "source": [
    "dfMO18.groupby('Agency').Award_Amount.sum().sort_values(ascending=False)"
   ]
  },
  {
   "cell_type": "code",
   "execution_count": 198,
   "metadata": {
    "scrolled": true
   },
   "outputs": [
    {
     "data": {
      "text/plain": [
       "Company\n",
       "APT THERAPEUTICS, INC.                     2839016.0\n",
       "SENTIAR, INC.                              2221372.0\n",
       "Intact Genomics Inc.                       1725702.0\n",
       "KaloCyte Inc                               1622208.0\n",
       "Product Innovation And Engineering, LLC    1581686.0\n",
       "Name: Award_Amount, dtype: float64"
      ]
     },
     "execution_count": 198,
     "metadata": {},
     "output_type": "execute_result"
    }
   ],
   "source": [
    "dfMO18.groupby('Company').Award_Amount.sum().sort_values(ascending=False).head(5)"
   ]
  },
  {
   "cell_type": "code",
   "execution_count": 199,
   "metadata": {
    "scrolled": true
   },
   "outputs": [
    {
     "data": {
      "text/plain": [
       "City\n",
       "Saint Louis    16804899.00\n",
       "Columbia        3472626.85\n",
       "Saint James     1581686.00\n",
       "Kansas City     1191180.00\n",
       "Rolla           1110584.00\n",
       "Name: Award_Amount, dtype: float64"
      ]
     },
     "execution_count": 199,
     "metadata": {},
     "output_type": "execute_result"
    }
   ],
   "source": [
    "dfMO18.groupby('City').Award_Amount.sum().sort_values(ascending=False).head(5)"
   ]
  },
  {
   "cell_type": "code",
   "execution_count": 200,
   "metadata": {
    "scrolled": true
   },
   "outputs": [
    {
     "data": {
      "text/plain": [
       "ZIP5\n",
       "63108    6890737.0\n",
       "63132    5164715.0\n",
       "65201    2574583.1\n",
       "65559    1581686.0\n",
       "63146    1496822.0\n",
       "Name: Award_Amount, dtype: float64"
      ]
     },
     "execution_count": 200,
     "metadata": {},
     "output_type": "execute_result"
    }
   ],
   "source": [
    "dfMO18.groupby('ZIP5').Award_Amount.sum().sort_values(ascending=False).head(5)"
   ]
  },
  {
   "cell_type": "markdown",
   "metadata": {},
   "source": [
    "IOWA"
   ]
  },
  {
   "cell_type": "code",
   "execution_count": 201,
   "metadata": {
    "scrolled": false
   },
   "outputs": [
    {
     "data": {
      "text/plain": [
       "Award_Year\n",
       "2018    23\n",
       "2016    23\n",
       "2019    22\n",
       "2017    21\n",
       "2015    12\n",
       "dtype: int64"
      ]
     },
     "execution_count": 201,
     "metadata": {},
     "output_type": "execute_result"
    }
   ],
   "source": [
    "dfIOWA.groupby('Award_Year').size().sort_values(ascending=False)"
   ]
  },
  {
   "cell_type": "code",
   "execution_count": 202,
   "metadata": {
    "scrolled": true
   },
   "outputs": [
    {
     "data": {
      "text/plain": [
       "Award_Year\n",
       "2017    12201389.21\n",
       "2016     9564684.00\n",
       "2018     7432584.27\n",
       "2015     6777704.00\n",
       "2019     6557969.00\n",
       "Name: Award_Amount, dtype: float64"
      ]
     },
     "execution_count": 202,
     "metadata": {},
     "output_type": "execute_result"
    }
   ],
   "source": [
    "dfIOWA.groupby('Award_Year').Award_Amount.sum().sort_values(ascending=False)"
   ]
  },
  {
   "cell_type": "markdown",
   "metadata": {},
   "source": [
    "IOWA 2018 Awards"
   ]
  },
  {
   "cell_type": "code",
   "execution_count": 203,
   "metadata": {
    "scrolled": true
   },
   "outputs": [
    {
     "data": {
      "text/plain": [
       "Agency\n",
       "Department of Health and Human Services    7\n",
       "Department of Defense                      6\n",
       "Department of Agriculture                  4\n",
       "National Science Foundation                3\n",
       "Department of Energy                       3\n",
       "dtype: int64"
      ]
     },
     "execution_count": 203,
     "metadata": {},
     "output_type": "execute_result"
    }
   ],
   "source": [
    "dfIA18.groupby('Agency').size().sort_values(ascending=False)"
   ]
  },
  {
   "cell_type": "code",
   "execution_count": 204,
   "metadata": {
    "scrolled": false
   },
   "outputs": [
    {
     "data": {
      "text/plain": [
       "Company\n",
       "StarrMatica Learning Systems, Inc.    2\n",
       "Firefly Photonics, LLC                2\n",
       "PATHOVACS INCORPORATED                2\n",
       "J &amp; J Solutions, Inc.             1\n",
       "BEHAVIORAL DIAGNOSTICS, INC.          1\n",
       "dtype: int64"
      ]
     },
     "execution_count": 204,
     "metadata": {},
     "output_type": "execute_result"
    }
   ],
   "source": [
    "dfIA18.groupby('Company').size().sort_values(ascending=False).head(5)"
   ]
  },
  {
   "cell_type": "code",
   "execution_count": 205,
   "metadata": {
    "scrolled": false
   },
   "outputs": [
    {
     "data": {
      "text/plain": [
       "City\n",
       "Ames          8\n",
       "Iowa City     4\n",
       "Solon         3\n",
       "Coralville    3\n",
       "Clinton       2\n",
       "dtype: int64"
      ]
     },
     "execution_count": 205,
     "metadata": {},
     "output_type": "execute_result"
    }
   ],
   "source": [
    "dfIA18.groupby('City').size().sort_values(ascending=False).head(5)"
   ]
  },
  {
   "cell_type": "code",
   "execution_count": 206,
   "metadata": {
    "scrolled": false
   },
   "outputs": [
    {
     "data": {
      "text/plain": [
       "ZIP5\n",
       "52333    3\n",
       "52241    3\n",
       "50014    3\n",
       "50011    3\n",
       "52732    2\n",
       "dtype: int64"
      ]
     },
     "execution_count": 206,
     "metadata": {},
     "output_type": "execute_result"
    }
   ],
   "source": [
    "dfIA18.groupby('ZIP5').size().sort_values(ascending=False).head(5)"
   ]
  },
  {
   "cell_type": "code",
   "execution_count": 207,
   "metadata": {
    "scrolled": false
   },
   "outputs": [
    {
     "data": {
      "text/plain": [
       "Agency\n",
       "Department of Health and Human Services    3396138.00\n",
       "Department of Defense                      1498999.54\n",
       "National Science Foundation                1187901.00\n",
       "Department of Agriculture                   899546.00\n",
       "Department of Energy                        449999.73\n",
       "Name: Award_Amount, dtype: float64"
      ]
     },
     "execution_count": 207,
     "metadata": {},
     "output_type": "execute_result"
    }
   ],
   "source": [
    "dfIA18.groupby('Agency').Award_Amount.sum().sort_values(ascending=False)"
   ]
  },
  {
   "cell_type": "code",
   "execution_count": 208,
   "metadata": {
    "scrolled": false
   },
   "outputs": [
    {
     "data": {
      "text/plain": [
       "Company\n",
       "EMMYON, INC.                          1492294.0\n",
       "Firefly Photonics, LLC                 874999.0\n",
       "Parametric Studio, Inc.                737901.0\n",
       "StarrMatica Learning Systems, Inc.     700000.0\n",
       "J &amp; J Solutions, Inc.              548377.0\n",
       "Name: Award_Amount, dtype: float64"
      ]
     },
     "execution_count": 208,
     "metadata": {},
     "output_type": "execute_result"
    }
   ],
   "source": [
    "dfIA18.groupby('Company').Award_Amount.sum().sort_values(ascending=False).head(5)"
   ]
  },
  {
   "cell_type": "code",
   "execution_count": 209,
   "metadata": {
    "scrolled": false
   },
   "outputs": [
    {
     "data": {
      "text/plain": [
       "City\n",
       "Coralville    2067534.00\n",
       "Ames          1943903.27\n",
       "Iowa City     1146637.00\n",
       "Solon         1099999.00\n",
       "Clinton        700000.00\n",
       "Name: Award_Amount, dtype: float64"
      ]
     },
     "execution_count": 209,
     "metadata": {},
     "output_type": "execute_result"
    }
   ],
   "source": [
    "dfIA18.groupby('City').Award_Amount.sum().sort_values(ascending=False).head(5)"
   ]
  },
  {
   "cell_type": "code",
   "execution_count": 210,
   "metadata": {
    "scrolled": true
   },
   "outputs": [
    {
     "data": {
      "text/plain": [
       "ZIP5\n",
       "52241    2067534.0\n",
       "52333    1099999.0\n",
       "50010     887901.0\n",
       "52732     700000.0\n",
       "52245     698377.0\n",
       "Name: Award_Amount, dtype: float64"
      ]
     },
     "execution_count": 210,
     "metadata": {},
     "output_type": "execute_result"
    }
   ],
   "source": [
    "dfIA18.groupby('ZIP5').Award_Amount.sum().sort_values(ascending=False).head(5)"
   ]
  },
  {
   "cell_type": "code",
   "execution_count": null,
   "metadata": {},
   "outputs": [],
   "source": []
  },
  {
   "cell_type": "markdown",
   "metadata": {},
   "source": [
    "NEBRASKA"
   ]
  },
  {
   "cell_type": "code",
   "execution_count": 211,
   "metadata": {
    "scrolled": false
   },
   "outputs": [
    {
     "data": {
      "text/plain": [
       "Award_Year\n",
       "2017    14\n",
       "2016    11\n",
       "2015    10\n",
       "2018     7\n",
       "2019     4\n",
       "dtype: int64"
      ]
     },
     "execution_count": 211,
     "metadata": {},
     "output_type": "execute_result"
    }
   ],
   "source": [
    "dfNEBR.groupby('Award_Year').size().sort_values(ascending=False)"
   ]
  },
  {
   "cell_type": "code",
   "execution_count": 212,
   "metadata": {
    "scrolled": true
   },
   "outputs": [
    {
     "data": {
      "text/plain": [
       "Award_Year\n",
       "2017    8109724.0\n",
       "2018    5741498.0\n",
       "2016    4196444.0\n",
       "2015    2968194.0\n",
       "2019     867444.0\n",
       "Name: Award_Amount, dtype: float64"
      ]
     },
     "execution_count": 212,
     "metadata": {},
     "output_type": "execute_result"
    }
   ],
   "source": [
    "dfNEBR.groupby('Award_Year').Award_Amount.sum().sort_values(ascending=False)"
   ]
  },
  {
   "cell_type": "code",
   "execution_count": 243,
   "metadata": {},
   "outputs": [
    {
     "data": {
      "text/plain": [
       "Award_Year\n",
       "2018    820214.000000\n",
       "2017    579266.000000\n",
       "2016    381494.909091\n",
       "2015    296819.400000\n",
       "2019    216861.000000\n",
       "Name: Award_Amount, dtype: float64"
      ]
     },
     "execution_count": 243,
     "metadata": {},
     "output_type": "execute_result"
    }
   ],
   "source": [
    "dfNEBR.groupby('Award_Year').Award_Amount.mean().sort_values(ascending=False)"
   ]
  },
  {
   "cell_type": "code",
   "execution_count": null,
   "metadata": {},
   "outputs": [],
   "source": []
  },
  {
   "cell_type": "markdown",
   "metadata": {},
   "source": [
    "NEBR 2018 Awards"
   ]
  },
  {
   "cell_type": "code",
   "execution_count": 213,
   "metadata": {
    "scrolled": true
   },
   "outputs": [
    {
     "data": {
      "text/plain": [
       "Agency\n",
       "Department of Health and Human Services    6\n",
       "Department of Defense                      1\n",
       "dtype: int64"
      ]
     },
     "execution_count": 213,
     "metadata": {},
     "output_type": "execute_result"
    }
   ],
   "source": [
    "dfNE18.groupby('Agency').size().sort_values(ascending=False)"
   ]
  },
  {
   "cell_type": "code",
   "execution_count": 214,
   "metadata": {
    "scrolled": false
   },
   "outputs": [
    {
     "data": {
      "text/plain": [
       "Company\n",
       "Sanguine Diagnostics And Therapeutics, Inc.    3\n",
       "VAJRA INSTRUMENTS, INC.                        2\n",
       "Therapeutic Vision, Inc.                       1\n",
       "Pacific Engineering, Inc.                      1\n",
       "dtype: int64"
      ]
     },
     "execution_count": 214,
     "metadata": {},
     "output_type": "execute_result"
    }
   ],
   "source": [
    "dfNE18.groupby('Company').size().sort_values(ascending=False).head(5)"
   ]
  },
  {
   "cell_type": "code",
   "execution_count": 215,
   "metadata": {
    "scrolled": false
   },
   "outputs": [
    {
     "data": {
      "text/plain": [
       "City\n",
       "Omaha      4\n",
       "Lincoln    2\n",
       "Roca       1\n",
       "dtype: int64"
      ]
     },
     "execution_count": 215,
     "metadata": {},
     "output_type": "execute_result"
    }
   ],
   "source": [
    "dfNE18.groupby('City').size().sort_values(ascending=False).head(5)"
   ]
  },
  {
   "cell_type": "code",
   "execution_count": 216,
   "metadata": {
    "scrolled": false
   },
   "outputs": [
    {
     "data": {
      "text/plain": [
       "ZIP5\n",
       "68114    3\n",
       "68512    2\n",
       "68430    1\n",
       "68142    1\n",
       "dtype: int64"
      ]
     },
     "execution_count": 216,
     "metadata": {},
     "output_type": "execute_result"
    }
   ],
   "source": [
    "dfNE18.groupby('ZIP5').size().sort_values(ascending=False).head(5)"
   ]
  },
  {
   "cell_type": "code",
   "execution_count": 217,
   "metadata": {
    "scrolled": false
   },
   "outputs": [
    {
     "data": {
      "text/plain": [
       "Agency\n",
       "Department of Health and Human Services    5241981.0\n",
       "Department of Defense                       499517.0\n",
       "Name: Award_Amount, dtype: float64"
      ]
     },
     "execution_count": 217,
     "metadata": {},
     "output_type": "execute_result"
    }
   ],
   "source": [
    "dfNE18.groupby('Agency').Award_Amount.sum().sort_values(ascending=False)"
   ]
  },
  {
   "cell_type": "code",
   "execution_count": 218,
   "metadata": {
    "scrolled": true
   },
   "outputs": [
    {
     "data": {
      "text/plain": [
       "Company\n",
       "Sanguine Diagnostics And Therapeutics, Inc.    2812787.0\n",
       "VAJRA INSTRUMENTS, INC.                        2279194.0\n",
       "Pacific Engineering, Inc.                       499517.0\n",
       "Therapeutic Vision, Inc.                        150000.0\n",
       "Name: Award_Amount, dtype: float64"
      ]
     },
     "execution_count": 218,
     "metadata": {},
     "output_type": "execute_result"
    }
   ],
   "source": [
    "dfNE18.groupby('Company').Award_Amount.sum().sort_values(ascending=False).head(5)"
   ]
  },
  {
   "cell_type": "code",
   "execution_count": 219,
   "metadata": {
    "scrolled": false
   },
   "outputs": [
    {
     "data": {
      "text/plain": [
       "City\n",
       "Omaha      2962787.0\n",
       "Lincoln    2279194.0\n",
       "Roca        499517.0\n",
       "Name: Award_Amount, dtype: float64"
      ]
     },
     "execution_count": 219,
     "metadata": {},
     "output_type": "execute_result"
    }
   ],
   "source": [
    "dfNE18.groupby('City').Award_Amount.sum().sort_values(ascending=False).head(5)"
   ]
  },
  {
   "cell_type": "code",
   "execution_count": null,
   "metadata": {},
   "outputs": [],
   "source": []
  },
  {
   "cell_type": "code",
   "execution_count": 220,
   "metadata": {
    "scrolled": true
   },
   "outputs": [
    {
     "data": {
      "text/plain": [
       "ZIP5\n",
       "68114    2812787.0\n",
       "68512    2279194.0\n",
       "68430     499517.0\n",
       "68142     150000.0\n",
       "Name: Award_Amount, dtype: float64"
      ]
     },
     "execution_count": 220,
     "metadata": {},
     "output_type": "execute_result"
    }
   ],
   "source": [
    "dfNE18.groupby('ZIP5').Award_Amount.sum().sort_values(ascending=False).head(5)"
   ]
  },
  {
   "cell_type": "markdown",
   "metadata": {},
   "source": [
    "Preliminary City Analysis"
   ]
  },
  {
   "cell_type": "markdown",
   "metadata": {},
   "source": [
    "Lincoln, NE"
   ]
  },
  {
   "cell_type": "code",
   "execution_count": 221,
   "metadata": {},
   "outputs": [
    {
     "data": {
      "text/plain": [
       "Agency\n",
       "Department of Health and Human Services    7\n",
       "Department of Agriculture                  7\n",
       "National Science Foundation                3\n",
       "Department of Commerce                     2\n",
       "Department of Energy                       1\n",
       "Name: Agency, dtype: int64"
      ]
     },
     "execution_count": 221,
     "metadata": {},
     "output_type": "execute_result"
    }
   ],
   "source": [
    "dfLincoln = dfNEBR[(dfNEBR['City'] == 'Lincoln')]\n",
    "dfLincoln.groupby('Agency').Agency.count().sort_values(ascending=False).head(10)"
   ]
  },
  {
   "cell_type": "code",
   "execution_count": 222,
   "metadata": {},
   "outputs": [
    {
     "data": {
      "text/plain": [
       "Company\n",
       "VAJRA INSTRUMENTS, INC.      4\n",
       "LI-COR, Inc.                 3\n",
       "EpiCrop Technologies Inc     3\n",
       "Goldfinch Solutions, LLC     2\n",
       "NG HEALTH VENTURES, LLC      1\n",
       "GARNER INDUSTRIES, INC.      1\n",
       "FarmAfield Labs, LLC         1\n",
       "Esculon LLC                  1\n",
       "Drone Amplified, Inc.        1\n",
       "CellGro Technologies, LLC    1\n",
       "Name: Company, dtype: int64"
      ]
     },
     "execution_count": 222,
     "metadata": {},
     "output_type": "execute_result"
    }
   ],
   "source": [
    "dfLincoln.groupby('Company').Company.count().sort_values(ascending=False).head(10)"
   ]
  },
  {
   "cell_type": "code",
   "execution_count": 223,
   "metadata": {},
   "outputs": [
    {
     "data": {
      "text/plain": [
       "Contact_Name\n",
       "Michael E Fromm         2\n",
       "RAVI F SARAF            2\n",
       "Serguei Koulikov        2\n",
       "LYLE MIDDENDORF         1\n",
       "Chris Calkins           1\n",
       "Evan Luxon              1\n",
       "HENDRIK J VILJOEN       1\n",
       "Jeyamkondan Subbiah     1\n",
       "Julianne Kopf           1\n",
       "Steven Kiene            1\n",
       "Name: Company, dtype: int64"
      ]
     },
     "execution_count": 223,
     "metadata": {},
     "output_type": "execute_result"
    }
   ],
   "source": [
    "dfLincoln.groupby('Contact_Name').Company.count().sort_values(ascending=False).head(10)"
   ]
  },
  {
   "cell_type": "markdown",
   "metadata": {},
   "source": [
    "Columbia, MO"
   ]
  },
  {
   "cell_type": "code",
   "execution_count": 224,
   "metadata": {},
   "outputs": [
    {
     "data": {
      "text/plain": [
       "Agency\n",
       "Department of Defense                            17\n",
       "Department of Health and Human Services          12\n",
       "National Science Foundation                       4\n",
       "National Aeronautics and Space Administration     3\n",
       "Department of Agriculture                         2\n",
       "Department of Transportation                      1\n",
       "Department of Energy                              1\n",
       "Name: Agency, dtype: int64"
      ]
     },
     "execution_count": 224,
     "metadata": {},
     "output_type": "execute_result"
    }
   ],
   "source": [
    "dfColumbia = dfMIZZO[(dfMIZZO['City'] == 'Columbia')]\n",
    "dfColumbia.groupby('Agency').Agency.count().sort_values(ascending=False).head(10)"
   ]
  },
  {
   "cell_type": "code",
   "execution_count": 225,
   "metadata": {},
   "outputs": [
    {
     "data": {
      "text/plain": [
       "Company\n",
       "Thermavant Technologies, L.L.C.         15\n",
       "CRYOCRATE LLC                            4\n",
       "Liquid Carbonic L.L.C.                   3\n",
       "Infinity Power LLC                       3\n",
       "ThermoFlow Labs, LLC                     2\n",
       "TENSIVE CONTROLS, INC.                   2\n",
       "EXOCYTRONICS, LLC                        2\n",
       "ZenVax LLC                               1\n",
       "Smart Diagnostics Systems LLC            1\n",
       "Shift Pharmaceuticals Holdings, Inc.     1\n",
       "Name: Company, dtype: int64"
      ]
     },
     "execution_count": 225,
     "metadata": {},
     "output_type": "execute_result"
    }
   ],
   "source": [
    "dfColumbia.groupby('Company').Company.count().sort_values(ascending=False).head(10)"
   ]
  },
  {
   "cell_type": "code",
   "execution_count": 226,
   "metadata": {},
   "outputs": [
    {
     "data": {
      "text/plain": [
       "Contact_Name\n",
       "Joe Boswell          8\n",
       "joe boswell          4\n",
       "XU HAN               3\n",
       "Jae Kwon             3\n",
       "KEVIN A GILLIS       2\n",
       "KENNETH A GRUBER     2\n",
       "Hsiu-hung Chen       2\n",
       "William A Jacoby     1\n",
       "HAO LI               1\n",
       "Andrew Miller        1\n",
       "Name: Company, dtype: int64"
      ]
     },
     "execution_count": 226,
     "metadata": {},
     "output_type": "execute_result"
    }
   ],
   "source": [
    "dfColumbia.groupby('Contact_Name').Company.count().sort_values(ascending=False).head(10)"
   ]
  },
  {
   "cell_type": "code",
   "execution_count": null,
   "metadata": {},
   "outputs": [],
   "source": []
  },
  {
   "cell_type": "markdown",
   "metadata": {},
   "source": [
    "Lawrence, KS"
   ]
  },
  {
   "cell_type": "code",
   "execution_count": 227,
   "metadata": {},
   "outputs": [
    {
     "data": {
      "text/plain": [
       "Agency\n",
       "Department of Health and Human Services          19\n",
       "National Aeronautics and Space Administration    10\n",
       "Department of Defense                             6\n",
       "National Science Foundation                       2\n",
       "Department of Agriculture                         1\n",
       "Name: Agency, dtype: int64"
      ]
     },
     "execution_count": 227,
     "metadata": {},
     "output_type": "execute_result"
    }
   ],
   "source": [
    "dfLawrence = dfKANS[(dfKANS['City'] == 'Lawrence')]\n",
    "dfLawrence.groupby('Agency').Agency.count().sort_values(ascending=False).head(10)"
   ]
  },
  {
   "cell_type": "code",
   "execution_count": 228,
   "metadata": {},
   "outputs": [
    {
     "data": {
      "text/plain": [
       "Company\n",
       "KALSCOTT ENGINEERING INC                     9\n",
       "Pinnacle Technology, Inc.                    5\n",
       "Sunlite Science &amp; Technology, Inc        3\n",
       "Hafion LLC                                   3\n",
       "UAVradars LLC                                2\n",
       "HYLAPHARM LLC                                2\n",
       "Evoke Medical, LLC                           2\n",
       "Digital Nanogenetics LLC                     2\n",
       "Design-Zyme LLC                              2\n",
       "DESIGN, ANALYSIS AND RESEARCH CORPORATION    2\n",
       "Name: Company, dtype: int64"
      ]
     },
     "execution_count": 228,
     "metadata": {},
     "output_type": "execute_result"
    }
   ],
   "source": [
    "dfLawrence.groupby('Company').Company.count().sort_values(ascending=False).head(10)"
   ]
  },
  {
   "cell_type": "code",
   "execution_count": 229,
   "metadata": {},
   "outputs": [
    {
     "data": {
      "text/plain": [
       "Contact_Name\n",
       "Suman Saripalli      6\n",
       "DONNA A JOHNSON      5\n",
       "Tom Sherwood         3\n",
       "Lei Shi              2\n",
       "MARY BETH CARTER     2\n",
       "Fong Suo             2\n",
       "LAIRD FORREST        2\n",
       "Jessica Menon        1\n",
       "Aaron Nagel          1\n",
       "Brian Bard           1\n",
       "Name: Company, dtype: int64"
      ]
     },
     "execution_count": 229,
     "metadata": {},
     "output_type": "execute_result"
    }
   ],
   "source": [
    "dfLawrence.groupby('Contact_Name').Company.count().sort_values(ascending=False).head(10)"
   ]
  },
  {
   "cell_type": "markdown",
   "metadata": {},
   "source": [
    "Ames, IA"
   ]
  },
  {
   "cell_type": "code",
   "execution_count": 230,
   "metadata": {},
   "outputs": [
    {
     "data": {
      "text/plain": [
       "Agency\n",
       "National Science Foundation                11\n",
       "Department of Health and Human Services     6\n",
       "Department of Defense                       4\n",
       "Department of Agriculture                   3\n",
       "Department of Energy                        2\n",
       "Department of Education                     2\n",
       "Name: Agency, dtype: int64"
      ]
     },
     "execution_count": 230,
     "metadata": {},
     "output_type": "execute_result"
    }
   ],
   "source": [
    "dfAmes = dfIOWA[(dfIOWA['City'] == 'Ames')]\n",
    "dfAmes.groupby('Agency').Agency.count().sort_values(ascending=False).head(10)"
   ]
  },
  {
   "cell_type": "code",
   "execution_count": 231,
   "metadata": {},
   "outputs": [
    {
     "data": {
      "text/plain": [
       "Company\n",
       "Parametric Studio, Inc.         4\n",
       "Aptalogic, Inc.                 3\n",
       "Complex Computation, LLC        3\n",
       "PATHOVACS INCORPORATED          2\n",
       "ENGENIOUSAG, LLC                2\n",
       "PK Biosciences Corporation      2\n",
       "N-Sense, LLC                    1\n",
       "ETALYC, Inc.                    1\n",
       "Gross-wen Technologies, Inc.    1\n",
       "MTI Biotech Incorporated        1\n",
       "Name: Company, dtype: int64"
      ]
     },
     "execution_count": 231,
     "metadata": {},
     "output_type": "execute_result"
    }
   ],
   "source": [
    "dfAmes.groupby('Company').Company.count().sort_values(ascending=False).head(10)"
   ]
  },
  {
   "cell_type": "code",
   "execution_count": 232,
   "metadata": {},
   "outputs": [
    {
     "data": {
      "text/plain": [
       "Contact_Name\n",
       "Hui-Hsien Chou             3\n",
       "LINDA K LYNGHOLM           2\n",
       "Chris Whitmer              2\n",
       "Christopher E Whitmer      2\n",
       "Manohar John               2\n",
       "Xinran Wang                2\n",
       "Yoko M Ambrosini           1\n",
       "Charles E Glatz            1\n",
       "Christophe Frankiewicz     1\n",
       "Ian Tevis                  1\n",
       "Name: Company, dtype: int64"
      ]
     },
     "execution_count": 232,
     "metadata": {},
     "output_type": "execute_result"
    }
   ],
   "source": [
    "dfAmes.groupby('Contact_Name').Company.count().sort_values(ascending=False).head(10)"
   ]
  },
  {
   "cell_type": "markdown",
   "metadata": {},
   "source": [
    "Roca, Nebraska"
   ]
  },
  {
   "cell_type": "code",
   "execution_count": 233,
   "metadata": {},
   "outputs": [
    {
     "data": {
      "text/plain": [
       "Agency\n",
       "Department of Defense    5\n",
       "Name: Agency, dtype: int64"
      ]
     },
     "execution_count": 233,
     "metadata": {},
     "output_type": "execute_result"
    }
   ],
   "source": [
    "dfRoca = dfNEBR[(dfNEBR['City'] == 'Roca')]\n",
    "dfRoca.groupby('Agency').Agency.count().sort_values(ascending=False).head(10)"
   ]
  },
  {
   "cell_type": "code",
   "execution_count": 234,
   "metadata": {},
   "outputs": [
    {
     "data": {
      "text/plain": [
       "Company\n",
       "Pacific Engineering, Inc.    5\n",
       "Name: Company, dtype: int64"
      ]
     },
     "execution_count": 234,
     "metadata": {},
     "output_type": "execute_result"
    }
   ],
   "source": [
    "dfRoca.groupby('Company').Company.count().sort_values(ascending=False).head(10)"
   ]
  },
  {
   "cell_type": "markdown",
   "metadata": {},
   "source": [
    "Coralville, IA"
   ]
  },
  {
   "cell_type": "code",
   "execution_count": 235,
   "metadata": {},
   "outputs": [
    {
     "data": {
      "text/plain": [
       "Agency\n",
       "Department of Health and Human Services    16\n",
       "National Science Foundation                 3\n",
       "Department of Agriculture                   1\n",
       "Name: Agency, dtype: int64"
      ]
     },
     "execution_count": 235,
     "metadata": {},
     "output_type": "execute_result"
    }
   ],
   "source": [
    "dfCoralville = dfIOWA[(dfIOWA['City'] == 'Coralville')]\n",
    "dfCoralville.groupby('Agency').Agency.count().sort_values(ascending=False).head(10)"
   ]
  },
  {
   "cell_type": "code",
   "execution_count": 236,
   "metadata": {},
   "outputs": [
    {
     "data": {
      "text/plain": [
       "Company\n",
       "iotaMotion, Inc.                      3\n",
       "SynderBio Inc.                        2\n",
       "Iowa Adaptive Technologies, Inc.      2\n",
       "Infondrian LLC                        2\n",
       "EMMYON, INC.                          2\n",
       "VIEWPOINT MOLECULAR TARGETING, LLC    1\n",
       "VIDA DIAGNOSTICS, INC.                1\n",
       "Pani Clean Inc                        1\n",
       "PXALPHA, L.L.C.                       1\n",
       "NanoMedTrix, LLC                      1\n",
       "Name: Company, dtype: int64"
      ]
     },
     "execution_count": 236,
     "metadata": {},
     "output_type": "execute_result"
    }
   ],
   "source": [
    "dfCoralville.groupby('Company').Company.count().sort_values(ascending=False).head(10)"
   ]
  },
  {
   "cell_type": "markdown",
   "metadata": {},
   "source": [
    "Rolla, MO"
   ]
  },
  {
   "cell_type": "code",
   "execution_count": 237,
   "metadata": {},
   "outputs": [
    {
     "data": {
      "text/plain": [
       "Agency\n",
       "Department of Energy                             3\n",
       "National Aeronautics and Space Administration    2\n",
       "National Science Foundation                      1\n",
       "Department of Health and Human Services          1\n",
       "Department of Defense                            1\n",
       "Name: Agency, dtype: int64"
      ]
     },
     "execution_count": 237,
     "metadata": {},
     "output_type": "execute_result"
    }
   ],
   "source": [
    "dfRolla = dfMIZZO[(dfMIZZO['City'] == 'Rolla')]\n",
    "dfRolla.groupby('Agency').Agency.count().sort_values(ascending=False).head(10)"
   ]
  },
  {
   "cell_type": "code",
   "execution_count": 238,
   "metadata": {},
   "outputs": [
    {
     "data": {
      "text/plain": [
       "Company\n",
       "MO-SCI Corp.                2\n",
       "Froberg Aerospace, LLC      2\n",
       "TRIPLET TECH CORP           1\n",
       "STOECKER MD, WILLIAM V      1\n",
       "SMART HEALTH BEACONS LLC    1\n",
       "InnoCit, LLC                1\n",
       "Name: Company, dtype: int64"
      ]
     },
     "execution_count": 238,
     "metadata": {},
     "output_type": "execute_result"
    }
   ],
   "source": [
    "dfRolla.groupby('Company').Company.count().sort_values(ascending=False).head(10)"
   ]
  },
  {
   "cell_type": "markdown",
   "metadata": {},
   "source": [
    "Olathe, KS"
   ]
  },
  {
   "cell_type": "code",
   "execution_count": 241,
   "metadata": {},
   "outputs": [
    {
     "data": {
      "text/plain": [
       "Agency\n",
       "Department of Health and Human Services    6\n",
       "Department of Defense                      2\n",
       "Name: Agency, dtype: int64"
      ]
     },
     "execution_count": 241,
     "metadata": {},
     "output_type": "execute_result"
    }
   ],
   "source": [
    "dfOlathe = dfKANS[(dfKANS['City'] == 'Olathe')]\n",
    "dfOlathe.groupby('Agency').Agency.count().sort_values(ascending=False).head(10)"
   ]
  },
  {
   "cell_type": "code",
   "execution_count": 240,
   "metadata": {},
   "outputs": [
    {
     "data": {
      "text/plain": [
       "Company\n",
       "Metactive Medical, Inc.       3\n",
       "Flow Forward Medical, Inc.    2\n",
       "Ansera Analytics              2\n",
       "Clara Biotech, Inc.           1\n",
       "Arcademics                    1\n",
       "Name: Company, dtype: int64"
      ]
     },
     "execution_count": 240,
     "metadata": {},
     "output_type": "execute_result"
    }
   ],
   "source": [
    "dfOlathe.groupby('Company').Company.count().sort_values(ascending=False).head(10)"
   ]
  },
  {
   "cell_type": "code",
   "execution_count": null,
   "metadata": {},
   "outputs": [],
   "source": []
  },
  {
   "cell_type": "code",
   "execution_count": null,
   "metadata": {},
   "outputs": [],
   "source": []
  },
  {
   "cell_type": "code",
   "execution_count": null,
   "metadata": {},
   "outputs": [],
   "source": []
  },
  {
   "cell_type": "code",
   "execution_count": null,
   "metadata": {},
   "outputs": [],
   "source": []
  },
  {
   "cell_type": "code",
   "execution_count": null,
   "metadata": {},
   "outputs": [],
   "source": []
  },
  {
   "cell_type": "code",
   "execution_count": null,
   "metadata": {},
   "outputs": [],
   "source": []
  },
  {
   "cell_type": "code",
   "execution_count": null,
   "metadata": {},
   "outputs": [],
   "source": []
  },
  {
   "cell_type": "code",
   "execution_count": null,
   "metadata": {},
   "outputs": [],
   "source": []
  },
  {
   "cell_type": "code",
   "execution_count": null,
   "metadata": {},
   "outputs": [],
   "source": []
  },
  {
   "cell_type": "code",
   "execution_count": null,
   "metadata": {},
   "outputs": [],
   "source": []
  },
  {
   "cell_type": "code",
   "execution_count": null,
   "metadata": {},
   "outputs": [],
   "source": []
  },
  {
   "cell_type": "code",
   "execution_count": null,
   "metadata": {},
   "outputs": [],
   "source": []
  },
  {
   "cell_type": "code",
   "execution_count": null,
   "metadata": {},
   "outputs": [],
   "source": []
  },
  {
   "cell_type": "code",
   "execution_count": null,
   "metadata": {},
   "outputs": [],
   "source": []
  },
  {
   "cell_type": "code",
   "execution_count": null,
   "metadata": {},
   "outputs": [],
   "source": []
  },
  {
   "cell_type": "code",
   "execution_count": null,
   "metadata": {},
   "outputs": [],
   "source": []
  },
  {
   "cell_type": "code",
   "execution_count": null,
   "metadata": {},
   "outputs": [],
   "source": []
  },
  {
   "cell_type": "code",
   "execution_count": null,
   "metadata": {},
   "outputs": [],
   "source": []
  },
  {
   "cell_type": "code",
   "execution_count": null,
   "metadata": {},
   "outputs": [],
   "source": []
  },
  {
   "cell_type": "code",
   "execution_count": null,
   "metadata": {},
   "outputs": [],
   "source": []
  },
  {
   "cell_type": "code",
   "execution_count": null,
   "metadata": {},
   "outputs": [],
   "source": []
  },
  {
   "cell_type": "code",
   "execution_count": null,
   "metadata": {},
   "outputs": [],
   "source": []
  }
 ],
 "metadata": {
  "kernelspec": {
   "display_name": "Python 3",
   "language": "python",
   "name": "python3"
  },
  "language_info": {
   "codemirror_mode": {
    "name": "ipython",
    "version": 3
   },
   "file_extension": ".py",
   "mimetype": "text/x-python",
   "name": "python",
   "nbconvert_exporter": "python",
   "pygments_lexer": "ipython3",
   "version": "3.7.6"
  }
 },
 "nbformat": 4,
 "nbformat_minor": 4
}
