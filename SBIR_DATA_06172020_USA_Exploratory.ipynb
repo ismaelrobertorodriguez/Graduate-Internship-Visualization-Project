{
 "cells": [
  {
   "cell_type": "markdown",
   "metadata": {},
   "source": [
    "## SBIR/STTR Impact of University Commercializaton Research \n",
    "### USA DATASET\n",
    "\n",
    "### Ismael Rodriguez\n",
    "### 17 JUN 2020\n"
   ]
  },
  {
   "cell_type": "markdown",
   "metadata": {},
   "source": [
    "A. Software Preparation"
   ]
  },
  {
   "cell_type": "code",
   "execution_count": 1,
   "metadata": {},
   "outputs": [],
   "source": [
    "import urllib.request\n",
    "import json\n",
    "import pprint\n",
    "from pprint import pprint\n",
    "import pandas as pd"
   ]
  },
  {
   "cell_type": "markdown",
   "metadata": {},
   "source": [
    "B. Data Preparation\n",
    "\n",
    "Total Entries: 27596\n",
    "\n",
    "Total Columns: 41\n",
    "\n",
    "Inclusive Award Years:  2015-2020\n",
    "\n",
    "normalize city names setting all to lower case\n",
    "\n",
    "Extract 5 digit zip codes from any zip+4 entries"
   ]
  },
  {
   "cell_type": "code",
   "execution_count": null,
   "metadata": {},
   "outputs": [],
   "source": []
  },
  {
   "cell_type": "code",
   "execution_count": 2,
   "metadata": {},
   "outputs": [],
   "source": [
    "\n",
    "dfUSA = pd.read_csv('data/awardsUSA.csv')"
   ]
  },
  {
   "cell_type": "code",
   "execution_count": 3,
   "metadata": {
    "scrolled": true
   },
   "outputs": [
    {
     "data": {
      "text/html": [
       "<div>\n",
       "<style scoped>\n",
       "    .dataframe tbody tr th:only-of-type {\n",
       "        vertical-align: middle;\n",
       "    }\n",
       "\n",
       "    .dataframe tbody tr th {\n",
       "        vertical-align: top;\n",
       "    }\n",
       "\n",
       "    .dataframe thead th {\n",
       "        text-align: right;\n",
       "    }\n",
       "</style>\n",
       "<table border=\"1\" class=\"dataframe\">\n",
       "  <thead>\n",
       "    <tr style=\"text-align: right;\">\n",
       "      <th></th>\n",
       "      <th>Unnamed: 0</th>\n",
       "      <th>Company</th>\n",
       "      <th>Award_Title</th>\n",
       "      <th>Agency</th>\n",
       "      <th>Branch</th>\n",
       "      <th>Phase</th>\n",
       "      <th>Program</th>\n",
       "      <th>Agency_Tracking_Number</th>\n",
       "      <th>Contract</th>\n",
       "      <th>Proposal_Award_Date</th>\n",
       "      <th>...</th>\n",
       "      <th>Contact_Email</th>\n",
       "      <th>PI_Name</th>\n",
       "      <th>PI_Title</th>\n",
       "      <th>PI_Phone</th>\n",
       "      <th>PI_Email</th>\n",
       "      <th>RI_Name</th>\n",
       "      <th>RI_POC_Name</th>\n",
       "      <th>RI_POC_Phone</th>\n",
       "      <th>Research_Keywords</th>\n",
       "      <th>Abstract</th>\n",
       "    </tr>\n",
       "  </thead>\n",
       "  <tbody>\n",
       "    <tr>\n",
       "      <th>0</th>\n",
       "      <td>0</td>\n",
       "      <td>CU AEROSPACE L.L.C.</td>\n",
       "      <td>Scalable and Distributed Inertial Navigation S...</td>\n",
       "      <td>National Aeronautics and Space Administration</td>\n",
       "      <td>NaN</td>\n",
       "      <td>Phase II</td>\n",
       "      <td>STTR</td>\n",
       "      <td>183162</td>\n",
       "      <td>80NSSC20C0020</td>\n",
       "      <td>December 18, 2019</td>\n",
       "      <td>...</td>\n",
       "      <td>carroll@cuaerospace.com</td>\n",
       "      <td>David Carroll</td>\n",
       "      <td>NaN</td>\n",
       "      <td>(217) 239-1703</td>\n",
       "      <td>carroll@cuaerospace.com</td>\n",
       "      <td>University of Illinois at Urbana-Champaign</td>\n",
       "      <td>NaN</td>\n",
       "      <td>NaN</td>\n",
       "      <td>NaN</td>\n",
       "      <td>Current state of the art inertial measurement ...</td>\n",
       "    </tr>\n",
       "    <tr>\n",
       "      <th>1</th>\n",
       "      <td>1</td>\n",
       "      <td>Space Lab Technologies, LLC</td>\n",
       "      <td>MarsOasis- An Efficient Autonomously Controlle...</td>\n",
       "      <td>National Aeronautics and Space Administration</td>\n",
       "      <td>NaN</td>\n",
       "      <td>Phase II</td>\n",
       "      <td>STTR</td>\n",
       "      <td>182932</td>\n",
       "      <td>80NSSC20C0038</td>\n",
       "      <td>December 20, 2019</td>\n",
       "      <td>...</td>\n",
       "      <td>chris@spacelabtech.com</td>\n",
       "      <td>Christine Escobar</td>\n",
       "      <td>NaN</td>\n",
       "      <td>(720) 309-8475</td>\n",
       "      <td>chris@spacelabtech.com</td>\n",
       "      <td>Regents of the University of Colorado</td>\n",
       "      <td>NaN</td>\n",
       "      <td>NaN</td>\n",
       "      <td>NaN</td>\n",
       "      <td>The MarsOasistrade; cultivation system is a ve...</td>\n",
       "    </tr>\n",
       "    <tr>\n",
       "      <th>2</th>\n",
       "      <td>2</td>\n",
       "      <td>UbiQD, Inc</td>\n",
       "      <td>Tailoring the Solar Spectrum for Enhanced Crop...</td>\n",
       "      <td>National Aeronautics and Space Administration</td>\n",
       "      <td>NaN</td>\n",
       "      <td>Phase II</td>\n",
       "      <td>STTR</td>\n",
       "      <td>188052</td>\n",
       "      <td>80NSSC20C0024</td>\n",
       "      <td>January 10, 2020</td>\n",
       "      <td>...</td>\n",
       "      <td>matt@ubiqd.com</td>\n",
       "      <td>Matthew Bergren</td>\n",
       "      <td>NaN</td>\n",
       "      <td>(505) 310-6766</td>\n",
       "      <td>matt@ubiqd.com</td>\n",
       "      <td>University of Arizona</td>\n",
       "      <td>NaN</td>\n",
       "      <td>NaN</td>\n",
       "      <td>NaN</td>\n",
       "      <td>UbiQD, Inc,nbsp;has partnered with the Univers...</td>\n",
       "    </tr>\n",
       "    <tr>\n",
       "      <th>3</th>\n",
       "      <td>3</td>\n",
       "      <td>Opterus Research and Development, Inc.</td>\n",
       "      <td>Validated Engineering Tools for Thin-Ply Compo...</td>\n",
       "      <td>National Aeronautics and Space Administration</td>\n",
       "      <td>NaN</td>\n",
       "      <td>Phase II</td>\n",
       "      <td>STTR</td>\n",
       "      <td>185482</td>\n",
       "      <td>80NSSC20C0025</td>\n",
       "      <td>January 10, 2020</td>\n",
       "      <td>...</td>\n",
       "      <td>tmurphey@opterusrd.com</td>\n",
       "      <td>Thomas Murphey</td>\n",
       "      <td>NaN</td>\n",
       "      <td>(505) 250-3006</td>\n",
       "      <td>tmurphey@opterusrd.com</td>\n",
       "      <td>COLORADO STATE UNIVERSITY</td>\n",
       "      <td>NaN</td>\n",
       "      <td>NaN</td>\n",
       "      <td>NaN</td>\n",
       "      <td>Opterus Research and Development, Inc. propose...</td>\n",
       "    </tr>\n",
       "    <tr>\n",
       "      <th>4</th>\n",
       "      <td>4</td>\n",
       "      <td>HINETICS LLC</td>\n",
       "      <td>Integrated High Frequency Electric Propulsor f...</td>\n",
       "      <td>National Aeronautics and Space Administration</td>\n",
       "      <td>NaN</td>\n",
       "      <td>Phase II</td>\n",
       "      <td>SBIR</td>\n",
       "      <td>188322</td>\n",
       "      <td>80NSSC20C0008</td>\n",
       "      <td>December 18, 2019</td>\n",
       "      <td>...</td>\n",
       "      <td>Steven.M.Brockway@nasa.gov</td>\n",
       "      <td>Andy Yoon</td>\n",
       "      <td>NaN</td>\n",
       "      <td>(630) 442-9517</td>\n",
       "      <td>ayoon@hinetics.com</td>\n",
       "      <td>NaN</td>\n",
       "      <td>NaN</td>\n",
       "      <td>NaN</td>\n",
       "      <td>NaN</td>\n",
       "      <td>We propose the development of a high efficienc...</td>\n",
       "    </tr>\n",
       "  </tbody>\n",
       "</table>\n",
       "<p>5 rows × 40 columns</p>\n",
       "</div>"
      ],
      "text/plain": [
       "   Unnamed: 0                                 Company  \\\n",
       "0           0                     CU AEROSPACE L.L.C.   \n",
       "1           1             Space Lab Technologies, LLC   \n",
       "2           2                              UbiQD, Inc   \n",
       "3           3  Opterus Research and Development, Inc.   \n",
       "4           4                            HINETICS LLC   \n",
       "\n",
       "                                         Award_Title  \\\n",
       "0  Scalable and Distributed Inertial Navigation S...   \n",
       "1  MarsOasis- An Efficient Autonomously Controlle...   \n",
       "2  Tailoring the Solar Spectrum for Enhanced Crop...   \n",
       "3  Validated Engineering Tools for Thin-Ply Compo...   \n",
       "4  Integrated High Frequency Electric Propulsor f...   \n",
       "\n",
       "                                          Agency Branch     Phase Program  \\\n",
       "0  National Aeronautics and Space Administration    NaN  Phase II    STTR   \n",
       "1  National Aeronautics and Space Administration    NaN  Phase II    STTR   \n",
       "2  National Aeronautics and Space Administration    NaN  Phase II    STTR   \n",
       "3  National Aeronautics and Space Administration    NaN  Phase II    STTR   \n",
       "4  National Aeronautics and Space Administration    NaN  Phase II    SBIR   \n",
       "\n",
       "  Agency_Tracking_Number       Contract Proposal_Award_Date  ...  \\\n",
       "0                 183162  80NSSC20C0020   December 18, 2019  ...   \n",
       "1                 182932  80NSSC20C0038   December 20, 2019  ...   \n",
       "2                 188052  80NSSC20C0024    January 10, 2020  ...   \n",
       "3                 185482  80NSSC20C0025    January 10, 2020  ...   \n",
       "4                 188322  80NSSC20C0008   December 18, 2019  ...   \n",
       "\n",
       "                Contact_Email             PI_Name  PI_Title        PI_Phone  \\\n",
       "0     carroll@cuaerospace.com      David Carroll        NaN  (217) 239-1703   \n",
       "1      chris@spacelabtech.com  Christine Escobar        NaN  (720) 309-8475   \n",
       "2              matt@ubiqd.com    Matthew Bergren        NaN  (505) 310-6766   \n",
       "3      tmurphey@opterusrd.com     Thomas Murphey        NaN  (505) 250-3006   \n",
       "4  Steven.M.Brockway@nasa.gov          Andy Yoon        NaN  (630) 442-9517   \n",
       "\n",
       "                  PI_Email                                     RI_Name  \\\n",
       "0  carroll@cuaerospace.com  University of Illinois at Urbana-Champaign   \n",
       "1   chris@spacelabtech.com       Regents of the University of Colorado   \n",
       "2           matt@ubiqd.com                       University of Arizona   \n",
       "3   tmurphey@opterusrd.com                   COLORADO STATE UNIVERSITY   \n",
       "4       ayoon@hinetics.com                                         NaN   \n",
       "\n",
       "   RI_POC_Name RI_POC_Phone Research_Keywords  \\\n",
       "0          NaN          NaN               NaN   \n",
       "1          NaN          NaN               NaN   \n",
       "2          NaN          NaN               NaN   \n",
       "3          NaN          NaN               NaN   \n",
       "4          NaN          NaN               NaN   \n",
       "\n",
       "                                            Abstract  \n",
       "0  Current state of the art inertial measurement ...  \n",
       "1  The MarsOasistrade; cultivation system is a ve...  \n",
       "2  UbiQD, Inc,nbsp;has partnered with the Univers...  \n",
       "3  Opterus Research and Development, Inc. propose...  \n",
       "4  We propose the development of a high efficienc...  \n",
       "\n",
       "[5 rows x 40 columns]"
      ]
     },
     "execution_count": 3,
     "metadata": {},
     "output_type": "execute_result"
    }
   ],
   "source": [
    "dfUSA.head()"
   ]
  },
  {
   "cell_type": "code",
   "execution_count": 4,
   "metadata": {},
   "outputs": [],
   "source": [
    "dfUSA['City'] = dfUSA['City'].str.lower()\n",
    "dfUSA['RI_Name'] = dfUSA['RI_Name'].str.lower()"
   ]
  },
  {
   "cell_type": "code",
   "execution_count": 5,
   "metadata": {
    "scrolled": true
   },
   "outputs": [
    {
     "name": "stdout",
     "output_type": "stream",
     "text": [
      "<class 'pandas.core.frame.DataFrame'>\n",
      "RangeIndex: 27596 entries, 0 to 27595\n",
      "Data columns (total 40 columns):\n",
      " #   Column                                   Non-Null Count  Dtype  \n",
      "---  ------                                   --------------  -----  \n",
      " 0   Unnamed: 0                               27596 non-null  int64  \n",
      " 1   Company                                  27596 non-null  object \n",
      " 2   Award_Title                              27596 non-null  object \n",
      " 3   Agency                                   27596 non-null  object \n",
      " 4   Branch                                   16144 non-null  object \n",
      " 5   Phase                                    27596 non-null  object \n",
      " 6   Program                                  27596 non-null  object \n",
      " 7   Agency_Tracking_Number                   27596 non-null  object \n",
      " 8   Contract                                 27595 non-null  object \n",
      " 9   Proposal_Award_Date                      27072 non-null  object \n",
      " 10  Contract_End_Date                        26911 non-null  object \n",
      " 11  Solicitation_Number                      22722 non-null  object \n",
      " 12  Solicitation_Year                        27596 non-null  int64  \n",
      " 13  Topic_Code                               27515 non-null  object \n",
      " 14  Award_Year                               27596 non-null  int64  \n",
      " 15  Award_Amount                             27596 non-null  float64\n",
      " 16  DUNS                                     27003 non-null  float64\n",
      " 17  Hubzone_Owned                            27596 non-null  object \n",
      " 18  Socially_and_Economically_Disadvantaged  27596 non-null  object \n",
      " 19  Woman_Owned                              27596 non-null  object \n",
      " 20  Number_Employees                         19914 non-null  float64\n",
      " 21  Company_Website                          9559 non-null   object \n",
      " 22  Address1                                 27596 non-null  object \n",
      " 23  Address2                                 2089 non-null   object \n",
      " 24  City                                     27596 non-null  object \n",
      " 25  State                                    27596 non-null  object \n",
      " 26  Zip                                      27596 non-null  object \n",
      " 27  Contact_Name                             27596 non-null  object \n",
      " 28  Contact_Title                            5206 non-null   object \n",
      " 29  Contact_Phone                            27582 non-null  object \n",
      " 30  Contact_Email                            27595 non-null  object \n",
      " 31  PI_Name                                  27596 non-null  object \n",
      " 32  PI_Title                                 7738 non-null   object \n",
      " 33  PI_Phone                                 27593 non-null  object \n",
      " 34  PI_Email                                 27596 non-null  object \n",
      " 35  RI_Name                                  3720 non-null   object \n",
      " 36  RI_POC_Name                              2363 non-null   object \n",
      " 37  RI_POC_Phone                             2092 non-null   object \n",
      " 38  Research_Keywords                        13837 non-null  object \n",
      " 39  Abstract                                 27587 non-null  object \n",
      "dtypes: float64(3), int64(3), object(34)\n",
      "memory usage: 8.4+ MB\n"
     ]
    }
   ],
   "source": [
    "dfUSA.info()"
   ]
  },
  {
   "cell_type": "code",
   "execution_count": 6,
   "metadata": {},
   "outputs": [],
   "source": [
    "# Extraction of ZIP adapted from https://stackoverflow.com/questions/51607400/how-to-extract-first-8-characters-from-a-string-in-pandas\n",
    "dfUSA['ZIP5'] = dfUSA['Zip'].str[:5]"
   ]
  },
  {
   "cell_type": "raw",
   "metadata": {},
   "source": [
    "dfUSA.to_excel('data/SBIR_Expenditures_USA_06182020.xls')"
   ]
  },
  {
   "cell_type": "markdown",
   "metadata": {},
   "source": [
    "C.  Preliminary National Level Analysis"
   ]
  },
  {
   "cell_type": "code",
   "execution_count": 7,
   "metadata": {},
   "outputs": [
    {
     "data": {
      "text/plain": [
       "count    2.759600e+04\n",
       "mean     4.674415e+05\n",
       "std      5.144385e+05\n",
       "min      1.000000e+00\n",
       "25%      1.496988e+05\n",
       "50%      2.247955e+05\n",
       "75%      7.498510e+05\n",
       "max      1.198302e+07\n",
       "Name: Award_Amount, dtype: float64"
      ]
     },
     "execution_count": 7,
     "metadata": {},
     "output_type": "execute_result"
    }
   ],
   "source": [
    "dfUSA.Award_Amount.describe()"
   ]
  },
  {
   "cell_type": "code",
   "execution_count": 8,
   "metadata": {},
   "outputs": [
    {
     "data": {
      "text/plain": [
       "count    19914.000000\n",
       "mean        50.471829\n",
       "std         78.286943\n",
       "min          0.000000\n",
       "25%          5.000000\n",
       "50%         17.000000\n",
       "75%         57.000000\n",
       "max        499.000000\n",
       "Name: Number_Employees, dtype: float64"
      ]
     },
     "execution_count": 8,
     "metadata": {},
     "output_type": "execute_result"
    }
   ],
   "source": [
    "dfUSA.Number_Employees.describe()"
   ]
  },
  {
   "cell_type": "code",
   "execution_count": null,
   "metadata": {},
   "outputs": [],
   "source": []
  },
  {
   "cell_type": "code",
   "execution_count": 9,
   "metadata": {},
   "outputs": [
    {
     "data": {
      "text/plain": [
       "State\n",
       "CA    5626\n",
       "MA    2912\n",
       "VA    1569\n",
       "MD    1314\n",
       "CO    1296\n",
       "TX    1238\n",
       "NY    1207\n",
       "OH    1108\n",
       "PA    1085\n",
       "FL     801\n",
       "dtype: int64"
      ]
     },
     "execution_count": 9,
     "metadata": {},
     "output_type": "execute_result"
    }
   ],
   "source": [
    "dfUSA.groupby('State').size().sort_values(ascending=False).head(10)"
   ]
  },
  {
   "cell_type": "code",
   "execution_count": 10,
   "metadata": {},
   "outputs": [
    {
     "data": {
      "text/plain": [
       "count      53.000000\n",
       "mean      520.679245\n",
       "std       893.443162\n",
       "min         1.000000\n",
       "25%        77.000000\n",
       "50%       224.000000\n",
       "75%       557.000000\n",
       "max      5626.000000\n",
       "dtype: float64"
      ]
     },
     "execution_count": 10,
     "metadata": {},
     "output_type": "execute_result"
    }
   ],
   "source": [
    "dfUSA.groupby('State').size().describe()"
   ]
  },
  {
   "cell_type": "code",
   "execution_count": null,
   "metadata": {},
   "outputs": [],
   "source": []
  },
  {
   "cell_type": "code",
   "execution_count": null,
   "metadata": {},
   "outputs": [],
   "source": []
  },
  {
   "cell_type": "code",
   "execution_count": null,
   "metadata": {},
   "outputs": [],
   "source": []
  },
  {
   "cell_type": "code",
   "execution_count": 11,
   "metadata": {},
   "outputs": [
    {
     "data": {
      "text/plain": [
       "<matplotlib.axes._subplots.AxesSubplot at 0x23f8953fb08>"
      ]
     },
     "execution_count": 11,
     "metadata": {},
     "output_type": "execute_result"
    },
    {
     "data": {
      "image/png": "[encoded data removed]",
      "text/plain": [
       "<Figure size 432x288 with 1 Axes>"
      ]
     },
     "metadata": {
      "needs_background": "light"
     },
     "output_type": "display_data"
    }
   ],
   "source": [
    "dfUSA.groupby('Agency').size().sort_values(ascending=True).plot(kind='barh')"
   ]
  },
  {
   "cell_type": "code",
   "execution_count": 12,
   "metadata": {},
   "outputs": [
    {
     "data": {
      "text/plain": [
       "Agency\n",
       "Department of Defense                            11399\n",
       "Department of Health and Human Services           7220\n",
       "Department of Energy                              2742\n",
       "National Aeronautics and Space Administration     2702\n",
       "National Science Foundation                       2121\n",
       "Department of Agriculture                          555\n",
       "Department of Commerce                             271\n",
       "Department of Homeland Security                    229\n",
       "Department of Transportation                       134\n",
       "Environmental Protection Agency                    125\n",
       "Department of Education                             98\n",
       "dtype: int64"
      ]
     },
     "execution_count": 12,
     "metadata": {},
     "output_type": "execute_result"
    }
   ],
   "source": [
    "dfUSA.groupby('Agency').size().sort_values(ascending=False)"
   ]
  },
  {
   "cell_type": "code",
   "execution_count": 13,
   "metadata": {},
   "outputs": [
    {
     "data": {
      "text/plain": [
       "Branch\n",
       "National Institutes of Health                      4365\n",
       "Air Force                                          3776\n",
       "Navy                                               3142\n",
       "Army                                               1961\n",
       "Missile Defense Agency                              692\n",
       "Defense Advanced Research Projects Agency           639\n",
       "Defense Health Program                              474\n",
       "Special Operations Command                          218\n",
       "Defense Threat Reduction Agency                     144\n",
       "Defense Logistics Agency                            135\n",
       "National Oceanic and Atmospheric Administration     129\n",
       "Office for Chemical and Biological Defense          100\n",
       "National Institute of Standards and Technology       99\n",
       "ARPA-E                                               87\n",
       "Institute of Education Sciences                      79\n",
       "Office of the Secretary of Defense                   48\n",
       "Defense Microelectronics Activity                    28\n",
       "National Geospatial-Intelligence Agency              27\n",
       "Domestic Nuclear Detection Office SBIR Program        1\n",
       "dtype: int64"
      ]
     },
     "execution_count": 13,
     "metadata": {},
     "output_type": "execute_result"
    }
   ],
   "source": [
    "dfUSA.groupby('Branch').size().sort_values(ascending=False)"
   ]
  },
  {
   "cell_type": "code",
   "execution_count": null,
   "metadata": {},
   "outputs": [],
   "source": []
  },
  {
   "cell_type": "code",
   "execution_count": 14,
   "metadata": {},
   "outputs": [
    {
     "data": {
      "text/plain": [
       "Program\n",
       "SBIR    23750\n",
       "STTR     3846\n",
       "dtype: int64"
      ]
     },
     "execution_count": 14,
     "metadata": {},
     "output_type": "execute_result"
    }
   ],
   "source": [
    "dfUSA.groupby('Program').size().sort_values(ascending=False)"
   ]
  },
  {
   "cell_type": "code",
   "execution_count": 20,
   "metadata": {},
   "outputs": [
    {
     "data": {
      "text/html": [
       "<div>\n",
       "<style scoped>\n",
       "    .dataframe tbody tr th:only-of-type {\n",
       "        vertical-align: middle;\n",
       "    }\n",
       "\n",
       "    .dataframe tbody tr th {\n",
       "        vertical-align: top;\n",
       "    }\n",
       "\n",
       "    .dataframe thead th {\n",
       "        text-align: right;\n",
       "    }\n",
       "</style>\n",
       "<table border=\"1\" class=\"dataframe\">\n",
       "  <thead>\n",
       "    <tr style=\"text-align: right;\">\n",
       "      <th></th>\n",
       "      <th>Unnamed: 0</th>\n",
       "      <th>Solicitation_Year</th>\n",
       "      <th>Award_Year</th>\n",
       "      <th>Award_Amount</th>\n",
       "      <th>DUNS</th>\n",
       "      <th>Number_Employees</th>\n",
       "    </tr>\n",
       "    <tr>\n",
       "      <th>Program</th>\n",
       "      <th></th>\n",
       "      <th></th>\n",
       "      <th></th>\n",
       "      <th></th>\n",
       "      <th></th>\n",
       "      <th></th>\n",
       "    </tr>\n",
       "  </thead>\n",
       "  <tbody>\n",
       "    <tr>\n",
       "      <th>SBIR</th>\n",
       "      <td>11594460</td>\n",
       "      <td>47885165</td>\n",
       "      <td>47904554</td>\n",
       "      <td>1.137271e+10</td>\n",
       "      <td>6.954833e+12</td>\n",
       "      <td>904066.0</td>\n",
       "    </tr>\n",
       "    <tr>\n",
       "      <th>STTR</th>\n",
       "      <td>1838906</td>\n",
       "      <td>7754252</td>\n",
       "      <td>7757277</td>\n",
       "      <td>1.526802e+09</td>\n",
       "      <td>1.083268e+12</td>\n",
       "      <td>101030.0</td>\n",
       "    </tr>\n",
       "  </tbody>\n",
       "</table>\n",
       "</div>"
      ],
      "text/plain": [
       "         Unnamed: 0  Solicitation_Year  Award_Year  Award_Amount  \\\n",
       "Program                                                            \n",
       "SBIR       11594460           47885165    47904554  1.137271e+10   \n",
       "STTR        1838906            7754252     7757277  1.526802e+09   \n",
       "\n",
       "                 DUNS  Number_Employees  \n",
       "Program                                  \n",
       "SBIR     6.954833e+12          904066.0  \n",
       "STTR     1.083268e+12          101030.0  "
      ]
     },
     "execution_count": 20,
     "metadata": {},
     "output_type": "execute_result"
    }
   ],
   "source": [
    "dfUSA.groupby('Program').sum()"
   ]
  },
  {
   "cell_type": "code",
   "execution_count": null,
   "metadata": {},
   "outputs": [],
   "source": []
  },
  {
   "cell_type": "code",
   "execution_count": null,
   "metadata": {},
   "outputs": [],
   "source": []
  },
  {
   "cell_type": "code",
   "execution_count": 15,
   "metadata": {},
   "outputs": [
    {
     "data": {
      "text/plain": [
       "Award_Year\n",
       "2017    5996\n",
       "2018    5622\n",
       "2016    5410\n",
       "2019    5337\n",
       "2015    5176\n",
       "2020      55\n",
       "dtype: int64"
      ]
     },
     "execution_count": 15,
     "metadata": {},
     "output_type": "execute_result"
    }
   ],
   "source": [
    "dfUSA.groupby('Award_Year').size().sort_values(ascending=False)"
   ]
  },
  {
   "cell_type": "code",
   "execution_count": 16,
   "metadata": {},
   "outputs": [
    {
     "data": {
      "text/plain": [
       "Topic_Code\n",
       "NIAID       780\n",
       "102         725\n",
       "NHLBI       665\n",
       "NIA         425\n",
       "400         387\n",
       "           ... \n",
       "N121092       1\n",
       "N121095       1\n",
       "N121096       1\n",
       "A17AT009      1\n",
       "AF083255      1\n",
       "Length: 5085, dtype: int64"
      ]
     },
     "execution_count": 16,
     "metadata": {},
     "output_type": "execute_result"
    }
   ],
   "source": [
    "dfUSA.groupby('Topic_Code').size().sort_values(ascending=False)"
   ]
  },
  {
   "cell_type": "code",
   "execution_count": 17,
   "metadata": {},
   "outputs": [
    {
     "data": {
      "text/plain": [
       "ZIP5\n",
       "90501    406\n",
       "92121    319\n",
       "02138    296\n",
       "20855    266\n",
       "01801    250\n",
       "03755    245\n",
       "80301    227\n",
       "01810    224\n",
       "35806    223\n",
       "93117    214\n",
       "77845    191\n",
       "01824    162\n",
       "24011    155\n",
       "27709    144\n",
       "02472    141\n",
       "80033    134\n",
       "02139    130\n",
       "61820    129\n",
       "32955    123\n",
       "90505    115\n",
       "48105    105\n",
       "20850    104\n",
       "01803    104\n",
       "47906     97\n",
       "14850     94\n",
       "dtype: int64"
      ]
     },
     "execution_count": 17,
     "metadata": {},
     "output_type": "execute_result"
    }
   ],
   "source": [
    "dfUSA.groupby('ZIP5').size().sort_values(ascending=False).head(25)"
   ]
  },
  {
   "cell_type": "code",
   "execution_count": 18,
   "metadata": {},
   "outputs": [
    {
     "data": {
      "text/plain": [
       "City\n",
       "san diego          749\n",
       "torrance           562\n",
       "cambridge          524\n",
       "huntsville         463\n",
       "austin             431\n",
       "rockville          373\n",
       "boulder            366\n",
       "dayton             305\n",
       "ann arbor          292\n",
       "san francisco      268\n",
       "tucson             261\n",
       "hanover            257\n",
       "woburn             252\n",
       "albuquerque        237\n",
       "andover            233\n",
       "college station    227\n",
       "seattle            209\n",
       "durham             197\n",
       "new york           197\n",
       "santa barbara      193\n",
       "salt lake city     189\n",
       "roanoke            189\n",
       "pittsburgh         184\n",
       "houston            174\n",
       "sunnyvale          171\n",
       "dtype: int64"
      ]
     },
     "execution_count": 18,
     "metadata": {},
     "output_type": "execute_result"
    }
   ],
   "source": [
    "dfUSA.groupby('City').size().sort_values(ascending=False).head(25)"
   ]
  },
  {
   "cell_type": "code",
   "execution_count": 21,
   "metadata": {},
   "outputs": [
    {
     "data": {
      "text/plain": [
       "RI_Name\n",
       "stub                                  65\n",
       "purdue university                     51\n",
       "arizona state university              42\n",
       "stanford university                   39\n",
       "duke university                       37\n",
       "university of maryland                37\n",
       "university of michigan                36\n",
       "university of arizona                 35\n",
       "washington university                 34\n",
       "university of washington              33\n",
       "university of central florida         32\n",
       "pennsylvania state university         31\n",
       "university of utah                    31\n",
       "university of southern california     30\n",
       "north carolina state university       30\n",
       "colorado state university             29\n",
       "northwestern university               29\n",
       "university of pennsylvania            28\n",
       "southwest research institute          26\n",
       "university of virginia                26\n",
       "ohio state university                 26\n",
       "carnegie mellon university            26\n",
       "univ of north carolina chapel hill    25\n",
       "university of florida                 24\n",
       "virginia tech                         24\n",
       "dtype: int64"
      ]
     },
     "execution_count": 21,
     "metadata": {},
     "output_type": "execute_result"
    }
   ],
   "source": [
    "dfUSA.groupby('RI_Name').size().sort_values(ascending=False).head(25)"
   ]
  },
  {
   "cell_type": "code",
   "execution_count": 22,
   "metadata": {},
   "outputs": [
    {
     "data": {
      "text/plain": [
       "count    1051.000000\n",
       "mean        3.539486\n",
       "std         6.024641\n",
       "min         1.000000\n",
       "25%         1.000000\n",
       "50%         1.000000\n",
       "75%         3.000000\n",
       "max        65.000000\n",
       "dtype: float64"
      ]
     },
     "execution_count": 22,
     "metadata": {},
     "output_type": "execute_result"
    }
   ],
   "source": [
    "dfUSA.groupby('RI_Name').size().describe()"
   ]
  },
  {
   "cell_type": "code",
   "execution_count": 23,
   "metadata": {},
   "outputs": [
    {
     "data": {
      "text/plain": [
       "State\n",
       "CA    5626\n",
       "MA    2912\n",
       "VA    1569\n",
       "MD    1314\n",
       "CO    1296\n",
       "TX    1238\n",
       "NY    1207\n",
       "OH    1108\n",
       "PA    1085\n",
       "FL     801\n",
       "dtype: int64"
      ]
     },
     "execution_count": 23,
     "metadata": {},
     "output_type": "execute_result"
    }
   ],
   "source": [
    "dfUSA.groupby('State').size().sort_values(ascending=False).head(10)"
   ]
  },
  {
   "cell_type": "code",
   "execution_count": 24,
   "metadata": {},
   "outputs": [
    {
     "data": {
      "text/plain": [
       "count      53.000000\n",
       "mean      520.679245\n",
       "std       893.443162\n",
       "min         1.000000\n",
       "25%        77.000000\n",
       "50%       224.000000\n",
       "75%       557.000000\n",
       "max      5626.000000\n",
       "dtype: float64"
      ]
     },
     "execution_count": 24,
     "metadata": {},
     "output_type": "execute_result"
    }
   ],
   "source": [
    "dfUSA.groupby('State').size().describe()"
   ]
  },
  {
   "cell_type": "code",
   "execution_count": 25,
   "metadata": {},
   "outputs": [
    {
     "data": {
      "text/plain": [
       "State\n",
       "NC    521841.127090\n",
       "WA    515084.404697\n",
       "OR    513687.279348\n",
       "GA    503909.227493\n",
       "VT    500330.212297\n",
       "MA    499974.851247\n",
       "SC    495811.228525\n",
       "MN    493009.895061\n",
       "PA    491343.412793\n",
       "RI    485515.707865\n",
       "Name: Award_Amount, dtype: float64"
      ]
     },
     "execution_count": 25,
     "metadata": {},
     "output_type": "execute_result"
    }
   ],
   "source": [
    "dfUSA.groupby('State').Award_Amount.mean().sort_values(ascending=False).head(10)\n"
   ]
  },
  {
   "cell_type": "code",
   "execution_count": 26,
   "metadata": {},
   "outputs": [
    {
     "data": {
      "text/plain": [
       "State\n",
       "CA    2.678181e+09\n",
       "MA    1.455927e+09\n",
       "VA    7.087523e+08\n",
       "MD    6.305927e+08\n",
       "NY    5.753095e+08\n",
       "CO    5.642102e+08\n",
       "TX    5.466095e+08\n",
       "PA    5.331076e+08\n",
       "OH    4.885620e+08\n",
       "NC    3.945119e+08\n",
       "Name: Award_Amount, dtype: float64"
      ]
     },
     "execution_count": 26,
     "metadata": {},
     "output_type": "execute_result"
    }
   ],
   "source": [
    "dfUSA.groupby('State').Award_Amount.sum().sort_values(ascending=False).head(10)"
   ]
  },
  {
   "cell_type": "code",
   "execution_count": 27,
   "metadata": {},
   "outputs": [
    {
     "data": {
      "text/plain": [
       "count    2.759600e+04\n",
       "mean     4.674415e+05\n",
       "std      5.144385e+05\n",
       "min      1.000000e+00\n",
       "25%      1.496988e+05\n",
       "50%      2.247955e+05\n",
       "75%      7.498510e+05\n",
       "max      1.198302e+07\n",
       "Name: Award_Amount, dtype: float64"
      ]
     },
     "execution_count": 27,
     "metadata": {},
     "output_type": "execute_result"
    }
   ],
   "source": [
    "dfUSA['Award_Amount'].describe()"
   ]
  },
  {
   "cell_type": "code",
   "execution_count": 21,
   "metadata": {},
   "outputs": [
    {
     "data": {
      "text/plain": [
       "12899516642.630001"
      ]
     },
     "execution_count": 21,
     "metadata": {},
     "output_type": "execute_result"
    }
   ],
   "source": [
    "dfUSA['Award_Amount'].sum()"
   ]
  },
  {
   "cell_type": "code",
   "execution_count": null,
   "metadata": {},
   "outputs": [],
   "source": [
    "# 12,899,516,642 12.90 B 2015-2020"
   ]
  },
  {
   "cell_type": "code",
   "execution_count": null,
   "metadata": {},
   "outputs": [],
   "source": []
  },
  {
   "cell_type": "code",
   "execution_count": null,
   "metadata": {},
   "outputs": [],
   "source": []
  },
  {
   "cell_type": "code",
   "execution_count": null,
   "metadata": {},
   "outputs": [],
   "source": []
  },
  {
   "cell_type": "code",
   "execution_count": null,
   "metadata": {},
   "outputs": [],
   "source": []
  },
  {
   "cell_type": "code",
   "execution_count": null,
   "metadata": {},
   "outputs": [],
   "source": []
  },
  {
   "cell_type": "code",
   "execution_count": null,
   "metadata": {},
   "outputs": [],
   "source": []
  },
  {
   "cell_type": "code",
   "execution_count": 28,
   "metadata": {},
   "outputs": [],
   "source": [
    "# Create Subtable for 2018\n",
    "\n",
    "dfUS18=dfUSA[(dfUSA['Award_Year'] == 2018)]"
   ]
  },
  {
   "cell_type": "markdown",
   "metadata": {},
   "source": [
    "Institution Level Analysis 2018"
   ]
  },
  {
   "cell_type": "code",
   "execution_count": 29,
   "metadata": {},
   "outputs": [
    {
     "data": {
      "text/plain": [
       "RI_Name\n",
       "duke university                                                  7970235.00\n",
       "massachusetts general hospital                                   6979948.00\n",
       "university of pennsylvania                                       5864072.00\n",
       "washington university                                            5524117.00\n",
       "university of utah                                               4967496.00\n",
       "university of california, san diego                              4909560.00\n",
       "southwest research institute                                     4649041.00\n",
       "baylor college of medicine                                       3961834.00\n",
       "arizona state university                                         3532966.44\n",
       "johns hopkins university                                         3349153.00\n",
       "georgia state university                                         3332902.00\n",
       "university of southern california                                3303525.80\n",
       "woods hole oceanographic institution                             3299840.00\n",
       "university of arizona                                            3294278.80\n",
       "university of central florida                                    3017049.00\n",
       "university of pittsburgh                                         2854903.00\n",
       "mississippi state university                                     2849038.00\n",
       "univ of north carolina chapel hill                               2698994.00\n",
       "medical university of south carolina                             2670088.00\n",
       "southern research                                                2642801.56\n",
       "university of michigan                                           2628742.00\n",
       "university of california, los angeles                            2600718.00\n",
       "stanford university                                              2599636.00\n",
       "ohio state university                                            2568262.00\n",
       "university of maryland                                           2499995.00\n",
       "massachusetts institute of technology                            2217245.00\n",
       "university of tx md anderson can ctr                             2177248.00\n",
       "sandia national laboratories                                     2149822.00\n",
       "university of texas med br galveston                             2128312.00\n",
       "children&apos;s hosp of philadelphia                             2083993.00\n",
       "purdue university                                                2058300.00\n",
       "national renewable energy laboratory                             2049935.56\n",
       "brigham and women&apos;s hospital                                2001569.00\n",
       "mayo clinicjacksonville                                          2000000.00\n",
       "rutgers university                                               2000000.00\n",
       "university of delaware                                           1924898.00\n",
       "northeastern university                                          1899910.00\n",
       "northwestern university                                          1840769.00\n",
       "oregon health &amp; science university                           1832621.00\n",
       "university of colorado denver                                    1821786.00\n",
       "university of dayton                                             1774428.00\n",
       "university of michigan at ann arbor                              1768235.00\n",
       "vanderbilt university                                            1759402.00\n",
       "cleveland clinic foundation                                      1722777.00\n",
       "charles stark draper laboratory                                  1722650.00\n",
       "university of washington                                         1696927.00\n",
       "university of new mexico                                         1674686.00\n",
       "state university of new york at buffalo                          1633997.00\n",
       "massachusetts institute of tech                                  1624771.00\n",
       "research foundation for the state university of new york, the    1623596.00\n",
       "Name: Award_Amount, dtype: float64"
      ]
     },
     "execution_count": 29,
     "metadata": {},
     "output_type": "execute_result"
    }
   ],
   "source": [
    "dfUSA[(dfUSA['Award_Year'] == 2018)].groupby('RI_Name').Award_Amount.sum().sort_values(ascending=False).head(50)"
   ]
  },
  {
   "cell_type": "code",
   "execution_count": 30,
   "metadata": {},
   "outputs": [
    {
     "data": {
      "text/plain": [
       "RI_Name\n",
       "washington university                  11\n",
       "university of california, san diego     9\n",
       "university of pennsylvania              8\n",
       "massachusetts general hospital          8\n",
       "arizona state university                8\n",
       "southwest research institute            8\n",
       "university of central florida           8\n",
       "university of michigan                  8\n",
       "ohio state university                   8\n",
       "wayne state university                  7\n",
       "dtype: int64"
      ]
     },
     "execution_count": 30,
     "metadata": {},
     "output_type": "execute_result"
    }
   ],
   "source": [
    "dfUSA[(dfUSA['Award_Year'] == 2018)].groupby('RI_Name').size().sort_values(ascending=False).head(10)"
   ]
  },
  {
   "cell_type": "markdown",
   "metadata": {},
   "source": [
    "State Level Analysis 2018"
   ]
  },
  {
   "cell_type": "code",
   "execution_count": 31,
   "metadata": {},
   "outputs": [
    {
     "data": {
      "text/plain": [
       "Agency\n",
       "Department of Defense                            2251\n",
       "Department of Health and Human Services          1567\n",
       "Department of Energy                              601\n",
       "National Aeronautics and Space Administration     515\n",
       "National Science Foundation                       400\n",
       "Department of Agriculture                         114\n",
       "Department of Commerce                             70\n",
       "Department of Homeland Security                    37\n",
       "Department of Transportation                       24\n",
       "Environmental Protection Agency                    22\n",
       "Department of Education                            21\n",
       "dtype: int64"
      ]
     },
     "execution_count": 31,
     "metadata": {},
     "output_type": "execute_result"
    }
   ],
   "source": [
    "dfUS18.groupby('Agency').size().sort_values(ascending=False)"
   ]
  },
  {
   "cell_type": "code",
   "execution_count": 32,
   "metadata": {},
   "outputs": [
    {
     "data": {
      "text/plain": [
       "Company\n",
       "PHYSICAL OPTICS CORPORATION           61\n",
       "Intelligent Automation, Inc.          60\n",
       "CREARE LLC                            59\n",
       "Physical Sciences Inc.                47\n",
       "Charles River Analytics, Inc.         40\n",
       "LUNA INNOVATIONS INCORPORATED         39\n",
       "MAINSTREAM ENGINEERING CORPORATION    36\n",
       "TDA Research, Inc.                    34\n",
       "Triton Systems, Inc.                  32\n",
       "Lynntech Inc.                         30\n",
       "dtype: int64"
      ]
     },
     "execution_count": 32,
     "metadata": {},
     "output_type": "execute_result"
    }
   ],
   "source": [
    "dfUS18.groupby('Company').size().sort_values(ascending=False).head(10)"
   ]
  },
  {
   "cell_type": "code",
   "execution_count": 33,
   "metadata": {},
   "outputs": [
    {
     "data": {
      "text/plain": [
       "State\n",
       "CA    5.122561e+08\n",
       "MA    3.043482e+08\n",
       "VA    1.465971e+08\n",
       "CO    1.262897e+08\n",
       "MD    1.215243e+08\n",
       "NY    1.211184e+08\n",
       "PA    1.197281e+08\n",
       "TX    1.126892e+08\n",
       "OH    1.040007e+08\n",
       "NC    9.354986e+07\n",
       "Name: Award_Amount, dtype: float64"
      ]
     },
     "execution_count": 33,
     "metadata": {},
     "output_type": "execute_result"
    }
   ],
   "source": [
    "dfUS18.groupby('State').Award_Amount .sum().sort_values(ascending=False).head(10)"
   ]
  },
  {
   "cell_type": "code",
   "execution_count": 34,
   "metadata": {},
   "outputs": [
    {
     "data": {
      "text/plain": [
       "State\n",
       "NE    820214.000000\n",
       "OR    681000.308254\n",
       "GA    598730.240862\n",
       "MN    574364.698052\n",
       "HI    543610.028438\n",
       "NC    514010.200000\n",
       "UT    513643.170417\n",
       "VT    511887.876154\n",
       "PA    509481.274383\n",
       "MA    508943.557157\n",
       "Name: Award_Amount, dtype: float64"
      ]
     },
     "execution_count": 34,
     "metadata": {},
     "output_type": "execute_result"
    }
   ],
   "source": [
    "dfUS18.groupby('State').Award_Amount .mean().sort_values(ascending=False).head(10)"
   ]
  },
  {
   "cell_type": "code",
   "execution_count": 35,
   "metadata": {},
   "outputs": [
    {
     "data": {
      "text/plain": [
       "City\n",
       "san diego        85837382.78\n",
       "cambridge        65878236.53\n",
       "rockville        43766196.31\n",
       "huntsville       41404633.36\n",
       "torrance         40863046.01\n",
       "boulder          39005963.36\n",
       "austin           34651826.32\n",
       "san francisco    29776505.07\n",
       "seattle          29190645.99\n",
       "durham           28761641.32\n",
       "Name: Award_Amount, dtype: float64"
      ]
     },
     "execution_count": 35,
     "metadata": {},
     "output_type": "execute_result"
    }
   ],
   "source": [
    "dfUS18.groupby('City').Award_Amount .sum().sort_values(ascending=False).head(10)"
   ]
  },
  {
   "cell_type": "code",
   "execution_count": 36,
   "metadata": {},
   "outputs": [
    {
     "data": {
      "text/plain": [
       "Branch\n",
       "National Institutes of Health                6.949419e+08\n",
       "Air Force                                    2.645372e+08\n",
       "Navy                                         2.590315e+08\n",
       "Army                                         1.330162e+08\n",
       "Defense Advanced Research Projects Agency    1.214340e+08\n",
       "Defense Health Program                       6.558479e+07\n",
       "Missile Defense Agency                       6.067745e+07\n",
       "Special Operations Command                   3.420371e+07\n",
       "Defense Logistics Agency                     1.790186e+07\n",
       "Defense Threat Reduction Agency              1.630970e+07\n",
       "Name: Award_Amount, dtype: float64"
      ]
     },
     "execution_count": 36,
     "metadata": {},
     "output_type": "execute_result"
    }
   ],
   "source": [
    "dfUS18.groupby('Branch').Award_Amount .sum().sort_values(ascending=False).head(10)"
   ]
  },
  {
   "cell_type": "code",
   "execution_count": null,
   "metadata": {},
   "outputs": [],
   "source": []
  },
  {
   "cell_type": "code",
   "execution_count": 48,
   "metadata": {},
   "outputs": [
    {
     "data": {
      "text/plain": [
       "count    5.200000e+01\n",
       "mean     5.036344e+07\n",
       "std      8.500178e+07\n",
       "min      9.417200e+04\n",
       "25%      6.426281e+06\n",
       "50%      2.004633e+07\n",
       "75%      5.039345e+07\n",
       "max      5.122561e+08\n",
       "Name: Award_Amount, dtype: float64"
      ]
     },
     "execution_count": 48,
     "metadata": {},
     "output_type": "execute_result"
    }
   ],
   "source": [
    "dfUS18.groupby('State').Award_Amount.sum().describe()"
   ]
  },
  {
   "cell_type": "code",
   "execution_count": 71,
   "metadata": {},
   "outputs": [
    {
     "data": {
      "text/plain": [
       "count        52.000000\n",
       "mean     432822.243579\n",
       "std      112249.161532\n",
       "min       94172.000000\n",
       "25%      380574.514767\n",
       "50%      444743.328764\n",
       "75%      480215.746662\n",
       "max      820214.000000\n",
       "Name: Award_Amount, dtype: float64"
      ]
     },
     "execution_count": 71,
     "metadata": {},
     "output_type": "execute_result"
    }
   ],
   "source": [
    "dfUS18.groupby('State').Award_Amount.mean().describe()"
   ]
  },
  {
   "cell_type": "code",
   "execution_count": null,
   "metadata": {},
   "outputs": [],
   "source": []
  },
  {
   "cell_type": "code",
   "execution_count": 49,
   "metadata": {},
   "outputs": [
    {
     "data": {
      "text/plain": [
       "Company\n",
       "PHYSICAL OPTICS CORPORATION           61\n",
       "Intelligent Automation, Inc.          60\n",
       "CREARE LLC                            59\n",
       "Physical Sciences Inc.                47\n",
       "Charles River Analytics, Inc.         40\n",
       "LUNA INNOVATIONS INCORPORATED         39\n",
       "MAINSTREAM ENGINEERING CORPORATION    36\n",
       "TDA Research, Inc.                    34\n",
       "Triton Systems, Inc.                  32\n",
       "Lynntech Inc.                         30\n",
       "dtype: int64"
      ]
     },
     "execution_count": 49,
     "metadata": {},
     "output_type": "execute_result"
    }
   ],
   "source": [
    "dfUS18.groupby('Company').size().sort_values(ascending=False).head(10)"
   ]
  },
  {
   "cell_type": "code",
   "execution_count": 53,
   "metadata": {},
   "outputs": [
    {
     "data": {
      "text/plain": [
       "Agency\n",
       "Department of Defense                            409\n",
       "Department of Health and Human Services          319\n",
       "Department of Energy                             121\n",
       "National Aeronautics and Space Administration    103\n",
       "National Science Foundation                      100\n",
       "Department of Agriculture                         17\n",
       "Department of Commerce                            15\n",
       "Department of Homeland Security                    6\n",
       "Department of Education                            5\n",
       "Environmental Protection Agency                    4\n",
       "Department of Transportation                       2\n",
       "dtype: int64"
      ]
     },
     "execution_count": 53,
     "metadata": {},
     "output_type": "execute_result"
    }
   ],
   "source": [
    "dfUS18[(dfUS18['State'] == 'CA')].groupby('Agency').size().sort_values(ascending=False).head(50)"
   ]
  },
  {
   "cell_type": "code",
   "execution_count": 58,
   "metadata": {},
   "outputs": [
    {
     "data": {
      "text/plain": [
       "Agency\n",
       "Department of Defense                            284\n",
       "Department of Health and Human Services          158\n",
       "Department of Energy                              52\n",
       "National Aeronautics and Space Administration     37\n",
       "National Science Foundation                       36\n",
       "Department of Agriculture                         10\n",
       "Department of Commerce                             8\n",
       "Department of Homeland Security                    5\n",
       "Department of Transportation                       4\n",
       "Department of Education                            3\n",
       "Environmental Protection Agency                    1\n",
       "dtype: int64"
      ]
     },
     "execution_count": 58,
     "metadata": {},
     "output_type": "execute_result"
    }
   ],
   "source": [
    "dfUS18[(dfUS18['State'] == 'MA')].groupby('Agency').size().sort_values(ascending=False).head(50)"
   ]
  },
  {
   "cell_type": "code",
   "execution_count": 59,
   "metadata": {},
   "outputs": [
    {
     "data": {
      "text/plain": [
       "Agency\n",
       "Department of Defense                            185\n",
       "Department of Health and Human Services           37\n",
       "National Aeronautics and Space Administration     34\n",
       "Department of Energy                              28\n",
       "National Science Foundation                        9\n",
       "Department of Commerce                             6\n",
       "Department of Agriculture                          6\n",
       "Department of Homeland Security                    5\n",
       "Department of Transportation                       3\n",
       "Environmental Protection Agency                    1\n",
       "dtype: int64"
      ]
     },
     "execution_count": 59,
     "metadata": {},
     "output_type": "execute_result"
    }
   ],
   "source": [
    "dfUS18[(dfUS18['State'] == 'VA')].groupby('Agency').size().sort_values(ascending=False).head(50)"
   ]
  },
  {
   "cell_type": "code",
   "execution_count": 54,
   "metadata": {},
   "outputs": [
    {
     "data": {
      "text/plain": [
       "Company\n",
       "PHYSICAL OPTICS CORPORATION                       61\n",
       "TOYON RESEARCH CORPORATION                        18\n",
       "SA Photonics, Inc.                                17\n",
       "Freedom Photonics LLC                             16\n",
       "Arete Associates                                  16\n",
       "Intellisense Systems, Inc.                        14\n",
       "ENGINEERING AND SOFTWARE SYSTEM SOLUTIONS, INC    10\n",
       "Stottler Henke Associates, Inc.                    8\n",
       "Radiabeam Technologies, LLC                        8\n",
       "Space Micro Inc.                                   8\n",
       "dtype: int64"
      ]
     },
     "execution_count": 54,
     "metadata": {},
     "output_type": "execute_result"
    }
   ],
   "source": [
    "dfUS18[(dfUS18['State'] == 'CA')].groupby('Company').size().sort_values(ascending=False).head(10)"
   ]
  },
  {
   "cell_type": "code",
   "execution_count": 60,
   "metadata": {},
   "outputs": [
    {
     "data": {
      "text/plain": [
       "Company\n",
       "Physical Sciences Inc.                   47\n",
       "Charles River Analytics, Inc.            40\n",
       "Triton Systems, Inc.                     32\n",
       "Radiation Monitoring Devices, Inc.       23\n",
       "SYSTEMS &amp; TECHNOLOGY RESEARCH LLC    14\n",
       "Giner, Inc.                              14\n",
       "Aptima, Inc.                             12\n",
       "Aerodyne Research, Inc.                  11\n",
       "DIVERSIFIED TECHNOLOGIES, INC.           11\n",
       "Spectral Sciences, Inc.                  11\n",
       "dtype: int64"
      ]
     },
     "execution_count": 60,
     "metadata": {},
     "output_type": "execute_result"
    }
   ],
   "source": [
    "dfUS18[(dfUS18['State'] == 'MA')].groupby('Company').size().sort_values(ascending=False).head(10)"
   ]
  },
  {
   "cell_type": "code",
   "execution_count": 61,
   "metadata": {},
   "outputs": [
    {
     "data": {
      "text/plain": [
       "Company\n",
       "LUNA INNOVATIONS INCORPORATED                  39\n",
       "Nanosonic Inc.                                 22\n",
       "BARRON ASSOCIATES, INC.                        14\n",
       "Metron, Incorporated                           10\n",
       "FIBERTEK, INC.                                  9\n",
       "TECHNICAL DATA ANALYSIS, INC.                   8\n",
       "DZYNE Technologies Incorporated                 7\n",
       "Novateur Research Solutions, LLC                7\n",
       "INNOVATIVE TECHNOLOGIES INTERNATIONAL, INC.     7\n",
       "DECISIVE ANALYTICS CORPORATION                  7\n",
       "dtype: int64"
      ]
     },
     "execution_count": 61,
     "metadata": {},
     "output_type": "execute_result"
    }
   ],
   "source": [
    "dfUS18[(dfUS18['State'] == 'VA')].groupby('Company').size().sort_values(ascending=False).head(10)"
   ]
  },
  {
   "cell_type": "code",
   "execution_count": 55,
   "metadata": {},
   "outputs": [
    {
     "data": {
      "text/plain": [
       "City\n",
       "san diego        158\n",
       "torrance         106\n",
       "san francisco     52\n",
       "sunnyvale         34\n",
       "santa barbara     33\n",
       "berkeley          30\n",
       "goleta            29\n",
       "palo alto         22\n",
       "mountain view     20\n",
       "los gatos         20\n",
       "dtype: int64"
      ]
     },
     "execution_count": 55,
     "metadata": {},
     "output_type": "execute_result"
    }
   ],
   "source": [
    "dfUS18[(dfUS18['State'] == 'CA')].groupby('City').size().sort_values(ascending=False).head(10)"
   ]
  },
  {
   "cell_type": "code",
   "execution_count": 56,
   "metadata": {},
   "outputs": [
    {
     "data": {
      "text/plain": [
       "City\n",
       "cambridge     119\n",
       "woburn         55\n",
       "andover        50\n",
       "boston         34\n",
       "chelmsford     34\n",
       "watertown      26\n",
       "newton         24\n",
       "bedford        20\n",
       "burlington     16\n",
       "lexington      15\n",
       "dtype: int64"
      ]
     },
     "execution_count": 56,
     "metadata": {},
     "output_type": "execute_result"
    }
   ],
   "source": [
    "dfUS18[(dfUS18['State'] == 'MA')].groupby('City').size().sort_values(ascending=False).head(10)"
   ]
  },
  {
   "cell_type": "code",
   "execution_count": 57,
   "metadata": {},
   "outputs": [
    {
     "data": {
      "text/plain": [
       "City\n",
       "roanoke            40\n",
       "charlottesville    24\n",
       "arlington          24\n",
       "pembroke           22\n",
       "fairfax            20\n",
       "reston             16\n",
       "manassas           13\n",
       "blacksburg         13\n",
       "herndon            12\n",
       "leesburg           11\n",
       "dtype: int64"
      ]
     },
     "execution_count": 57,
     "metadata": {},
     "output_type": "execute_result"
    }
   ],
   "source": [
    "dfUS18[(dfUS18['State'] == 'VA')].groupby('City').size().sort_values(ascending=False).head(10)"
   ]
  },
  {
   "cell_type": "markdown",
   "metadata": {},
   "source": [
    "City Level Analysis 2018"
   ]
  },
  {
   "cell_type": "code",
   "execution_count": 50,
   "metadata": {},
   "outputs": [
    {
     "data": {
      "text/plain": [
       "count    1.036000e+03\n",
       "mean     2.527895e+06\n",
       "std      5.794316e+06\n",
       "min      3.000000e+04\n",
       "25%      2.250000e+05\n",
       "50%      7.497880e+05\n",
       "75%      2.071699e+06\n",
       "max      8.583738e+07\n",
       "Name: Award_Amount, dtype: float64"
      ]
     },
     "execution_count": 50,
     "metadata": {},
     "output_type": "execute_result"
    }
   ],
   "source": [
    "dfUS18.groupby('City').Award_Amount.sum().describe()"
   ]
  },
  {
   "cell_type": "code",
   "execution_count": 51,
   "metadata": {},
   "outputs": [
    {
     "data": {
      "text/plain": [
       "count    1.764000e+03\n",
       "mean     1.484636e+06\n",
       "std      2.822797e+06\n",
       "min      3.000000e+04\n",
       "25%      2.249990e+05\n",
       "50%      6.577505e+05\n",
       "75%      1.641649e+06\n",
       "max      4.221114e+07\n",
       "Name: Award_Amount, dtype: float64"
      ]
     },
     "execution_count": 51,
     "metadata": {},
     "output_type": "execute_result"
    }
   ],
   "source": [
    "dfUS18.groupby('ZIP5').Award_Amount.sum().describe()"
   ]
  },
  {
   "cell_type": "code",
   "execution_count": 8,
   "metadata": {},
   "outputs": [
    {
     "data": {
      "text/plain": [
       "Agency\n",
       "Department of Defense                            78\n",
       "Department of Energy                             12\n",
       "National Aeronautics and Space Administration     8\n",
       "Department of Homeland Security                   3\n",
       "Department of Health and Human Services           3\n",
       "Environmental Protection Agency                   1\n",
       "Department of Transportation                      1\n",
       "dtype: int64"
      ]
     },
     "execution_count": 8,
     "metadata": {},
     "output_type": "execute_result"
    }
   ],
   "source": [
    "dfUSA18[(dfUSA18['City'] == 'torrance')].groupby('Agency').size().sort_values(ascending=False).head(50)"
   ]
  },
  {
   "cell_type": "code",
   "execution_count": 14,
   "metadata": {},
   "outputs": [
    {
     "data": {
      "text/plain": [
       "Agency\n",
       "Department of Defense                            75\n",
       "Department of Health and Human Services          64\n",
       "National Science Foundation                       8\n",
       "National Aeronautics and Space Administration     5\n",
       "Department of Energy                              5\n",
       "Department of Homeland Security                   1\n",
       "dtype: int64"
      ]
     },
     "execution_count": 14,
     "metadata": {},
     "output_type": "execute_result"
    }
   ],
   "source": [
    "dfUSA18[(dfUSA18['City'] == 'san diego')].groupby('Agency').size().sort_values(ascending=False)"
   ]
  },
  {
   "cell_type": "code",
   "execution_count": 15,
   "metadata": {},
   "outputs": [
    {
     "data": {
      "text/plain": [
       "Company\n",
       "ENGINEERING AND SOFTWARE SYSTEM SOLUTIONS, INC    10\n",
       "Space Micro Inc.                                   8\n",
       "Innoflight, Inc.                                   7\n",
       "ATA Engineering, Inc.                              5\n",
       "ELECTRONIC BIOSCIENCES, INC.                       4\n",
       "SAN DIEGO COMPOSITES, INC.                         4\n",
       "VALA SCIENCES, INC.                                4\n",
       "NU TREK INC                                        4\n",
       "MAPP BIOPHARMACEUTICAL, INC.                       3\n",
       "Orpro Therapeutics, Inc.                           3\n",
       "Spectral Labs Incorporated                         3\n",
       "SURFACE OPTICS CORP.                               3\n",
       "Fuse Integration, Inc.                             3\n",
       "Ocean Nano Tech LLC                                3\n",
       "Epigen Biosciences, Inc.                           3\n",
       "RAM LABORATORIES                                   3\n",
       "P&amp;J ROBINSON CORP                              2\n",
       "DIGITAL PROTEOMICS LLC                             2\n",
       "PACIFIC SCIENCE &amp; ENGINEERING GROUP INC        2\n",
       "3dt Holdings, LLC                                  2\n",
       "ZIVA CORPORATION                                   2\n",
       "Peptide Logic LLC                                  2\n",
       "Tristan Technologies, Inc.                         2\n",
       "UNIVERSAL STABILIZATION TECHNOLOGIES, INC.         2\n",
       "NANOCOMPOSIX INC                                   2\n",
       "Matrix Sensors, Inc.                               2\n",
       "ABREOS BIOSCIENCES, INC.                           2\n",
       "HEAT, LIGHT, AND SOUND RESEARCH, INC.              1\n",
       "Innovative Algorithms, LLC                         1\n",
       "Fluoresprobe Sciences, LLC                         1\n",
       "LA JOLLA ALCOHOL RESEARCH INC                      1\n",
       "Edwards, Carl                                      1\n",
       "EP ANALYTICS, INC..                                1\n",
       "LINNAEUS BIOSCIENCE, INC.                          1\n",
       "Information Systems Laboratories, Inc.             1\n",
       "nGoggle Inc.                                       1\n",
       "Diagnologix, LLC                                   1\n",
       "Allegro 3D, Inc.                                   1\n",
       "ABILITA BIO, INC.                                  1\n",
       "ACCEL-RF CORPORATION                               1\n",
       "ACCENTS ON HEALTH, INC.                            1\n",
       "ALLELE BIOTECHNOLOGY AND PHARMACEUTICALS           1\n",
       "AVANTGEN INC                                       1\n",
       "AXALUME INC.                                       1\n",
       "Aethlon Medical, Inc.                              1\n",
       "Amydis Diagnostics Inc.                            1\n",
       "DIRECT ELECTRON, L.P.                              1\n",
       "Arima Genomics Inc                                 1\n",
       "Arisan Therapeutics, Inc.                          1\n",
       "C&amp;B Tech                                       1\n",
       "dtype: int64"
      ]
     },
     "execution_count": 15,
     "metadata": {},
     "output_type": "execute_result"
    }
   ],
   "source": [
    "dfUSA18[(dfUSA18['City'] == 'san diego')].groupby('Company').size().sort_values(ascending=False).head(50)\n"
   ]
  },
  {
   "cell_type": "code",
   "execution_count": null,
   "metadata": {},
   "outputs": [],
   "source": []
  },
  {
   "cell_type": "code",
   "execution_count": 283,
   "metadata": {},
   "outputs": [
    {
     "data": {
      "text/plain": [
       "Agency\n",
       "Department of Health and Human Services          649177.396126\n",
       "Department of Energy                             470914.531859\n",
       "Department of Education                          468733.737917\n",
       "Department of Defense                            448858.145253\n",
       "Department of Homeland Security                  434490.123182\n",
       "National Science Foundation                      359417.176587\n",
       "Department of Transportation                     341140.672500\n",
       "National Aeronautics and Space Administration    331126.207679\n",
       "Department of Agriculture                        229331.773196\n",
       "Department of Commerce                           216861.326935\n",
       "Environmental Protection Agency                  156953.759286\n",
       "Name: Award_Amount, dtype: float64"
      ]
     },
     "execution_count": 283,
     "metadata": {},
     "output_type": "execute_result"
    }
   ],
   "source": [
    "dfUSA[(dfUSA['State'] == 'CA')].groupby('Agency').Award_Amount.mean().sort_values(ascending=False).head(25)"
   ]
  },
  {
   "cell_type": "code",
   "execution_count": 42,
   "metadata": {},
   "outputs": [
    {
     "data": {
      "text/plain": [
       "Award_Year\n",
       "2017    5996\n",
       "2018    5622\n",
       "2016    5410\n",
       "2019    5337\n",
       "2015    5176\n",
       "2020      55\n",
       "dtype: int64"
      ]
     },
     "execution_count": 42,
     "metadata": {},
     "output_type": "execute_result"
    }
   ],
   "source": [
    "dfUSA.groupby('Award_Year').size().sort_values(ascending=False)"
   ]
  },
  {
   "cell_type": "code",
   "execution_count": null,
   "metadata": {},
   "outputs": [],
   "source": []
  },
  {
   "cell_type": "code",
   "execution_count": null,
   "metadata": {},
   "outputs": [],
   "source": []
  },
  {
   "cell_type": "code",
   "execution_count": null,
   "metadata": {},
   "outputs": [],
   "source": []
  },
  {
   "cell_type": "code",
   "execution_count": null,
   "metadata": {},
   "outputs": [],
   "source": []
  },
  {
   "cell_type": "code",
   "execution_count": null,
   "metadata": {},
   "outputs": [],
   "source": []
  },
  {
   "cell_type": "code",
   "execution_count": null,
   "metadata": {},
   "outputs": [],
   "source": []
  },
  {
   "cell_type": "code",
   "execution_count": null,
   "metadata": {},
   "outputs": [],
   "source": []
  },
  {
   "cell_type": "code",
   "execution_count": null,
   "metadata": {},
   "outputs": [],
   "source": []
  },
  {
   "cell_type": "code",
   "execution_count": null,
   "metadata": {},
   "outputs": [],
   "source": []
  },
  {
   "cell_type": "code",
   "execution_count": null,
   "metadata": {},
   "outputs": [],
   "source": []
  },
  {
   "cell_type": "code",
   "execution_count": null,
   "metadata": {},
   "outputs": [],
   "source": []
  },
  {
   "cell_type": "code",
   "execution_count": null,
   "metadata": {},
   "outputs": [],
   "source": []
  },
  {
   "cell_type": "code",
   "execution_count": null,
   "metadata": {},
   "outputs": [],
   "source": []
  },
  {
   "cell_type": "code",
   "execution_count": null,
   "metadata": {},
   "outputs": [],
   "source": []
  },
  {
   "cell_type": "code",
   "execution_count": null,
   "metadata": {},
   "outputs": [],
   "source": []
  },
  {
   "cell_type": "code",
   "execution_count": null,
   "metadata": {},
   "outputs": [],
   "source": []
  },
  {
   "cell_type": "code",
   "execution_count": null,
   "metadata": {},
   "outputs": [],
   "source": []
  },
  {
   "cell_type": "code",
   "execution_count": null,
   "metadata": {},
   "outputs": [],
   "source": []
  },
  {
   "cell_type": "code",
   "execution_count": null,
   "metadata": {},
   "outputs": [],
   "source": []
  },
  {
   "cell_type": "code",
   "execution_count": null,
   "metadata": {},
   "outputs": [],
   "source": []
  },
  {
   "cell_type": "code",
   "execution_count": null,
   "metadata": {},
   "outputs": [],
   "source": []
  },
  {
   "cell_type": "code",
   "execution_count": null,
   "metadata": {},
   "outputs": [],
   "source": []
  },
  {
   "cell_type": "code",
   "execution_count": null,
   "metadata": {},
   "outputs": [],
   "source": []
  },
  {
   "cell_type": "code",
   "execution_count": null,
   "metadata": {},
   "outputs": [],
   "source": []
  },
  {
   "cell_type": "code",
   "execution_count": null,
   "metadata": {},
   "outputs": [],
   "source": []
  },
  {
   "cell_type": "code",
   "execution_count": null,
   "metadata": {},
   "outputs": [],
   "source": []
  },
  {
   "cell_type": "code",
   "execution_count": null,
   "metadata": {},
   "outputs": [],
   "source": []
  },
  {
   "cell_type": "code",
   "execution_count": null,
   "metadata": {},
   "outputs": [],
   "source": []
  },
  {
   "cell_type": "code",
   "execution_count": null,
   "metadata": {},
   "outputs": [],
   "source": []
  },
  {
   "cell_type": "code",
   "execution_count": null,
   "metadata": {},
   "outputs": [],
   "source": []
  },
  {
   "cell_type": "code",
   "execution_count": null,
   "metadata": {},
   "outputs": [],
   "source": []
  },
  {
   "cell_type": "code",
   "execution_count": null,
   "metadata": {},
   "outputs": [],
   "source": []
  },
  {
   "cell_type": "code",
   "execution_count": null,
   "metadata": {},
   "outputs": [],
   "source": []
  },
  {
   "cell_type": "code",
   "execution_count": null,
   "metadata": {},
   "outputs": [],
   "source": []
  },
  {
   "cell_type": "code",
   "execution_count": null,
   "metadata": {},
   "outputs": [],
   "source": []
  },
  {
   "cell_type": "code",
   "execution_count": null,
   "metadata": {},
   "outputs": [],
   "source": []
  },
  {
   "cell_type": "code",
   "execution_count": null,
   "metadata": {},
   "outputs": [],
   "source": []
  },
  {
   "cell_type": "code",
   "execution_count": null,
   "metadata": {},
   "outputs": [],
   "source": []
  },
  {
   "cell_type": "code",
   "execution_count": null,
   "metadata": {},
   "outputs": [],
   "source": []
  },
  {
   "cell_type": "code",
   "execution_count": null,
   "metadata": {},
   "outputs": [],
   "source": []
  },
  {
   "cell_type": "code",
   "execution_count": null,
   "metadata": {},
   "outputs": [],
   "source": []
  },
  {
   "cell_type": "code",
   "execution_count": null,
   "metadata": {},
   "outputs": [],
   "source": []
  }
 ],
 "metadata": {
  "kernelspec": {
   "display_name": "Python 3",
   "language": "python",
   "name": "python3"
  },
  "language_info": {
   "codemirror_mode": {
    "name": "ipython",
    "version": 3
   },
   "file_extension": ".py",
   "mimetype": "text/x-python",
   "name": "python",
   "nbconvert_exporter": "python",
   "pygments_lexer": "ipython3",
   "version": "3.7.6"
  }
 },
 "nbformat": 4,
 "nbformat_minor": 4
}
